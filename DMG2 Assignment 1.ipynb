{
 "cells": [
  {
   "cell_type": "markdown",
   "metadata": {},
   "source": [
    "[Subba Reddy Yeruva](https://in.linkedin.com/in/subba-reddy-yeruva-2a5618b0) - *71610085* "
   ]
  },
  {
   "cell_type": "code",
   "execution_count": 372,
   "metadata": {
    "collapsed": false
   },
   "outputs": [
    {
     "data": {
      "text/plain": [
       "'J:\\\\ISB Business Analytics\\\\Data Mining 2\\\\Home Work Datasets 1\\\\IRIS'"
      ]
     },
     "execution_count": 372,
     "metadata": {},
     "output_type": "execute_result"
    }
   ],
   "source": [
    "import os\n",
    "os.getcwd()\n",
    "\n",
    "os.chdir('J:\\\\ISB Business Analytics\\\\Data Mining 2\\\\Home Work Datasets 1\\\\IRIS')\n",
    "\n",
    "path = os.getcwd()\n",
    "os.getcwd()"
   ]
  },
  {
   "cell_type": "code",
   "execution_count": 373,
   "metadata": {
    "collapsed": true
   },
   "outputs": [],
   "source": [
    "# libraries \n",
    "import math\n",
    "\n",
    "import numpy as np\n",
    "import pandas as pd\n",
    "\n",
    "import matplotlib.pyplot as plt\n",
    "import matplotlib.patches as mpatches\n",
    "%matplotlib inline\n",
    "\n",
    "import seaborn as sns\n",
    "\n",
    "import copy\n",
    "\n",
    "from sklearn.discriminant_analysis import LinearDiscriminantAnalysis as LDA\n",
    "from sklearn.preprocessing import LabelEncoder\n"
   ]
  },
  {
   "cell_type": "markdown",
   "metadata": {},
   "source": [
    "# P1 : IRIS – HIERARCHICAL FISHER"
   ]
  },
  {
   "cell_type": "code",
   "execution_count": 374,
   "metadata": {
    "collapsed": false
   },
   "outputs": [
    {
     "name": "stdout",
     "output_type": "stream",
     "text": [
      "The Train Data Details:- \n",
      "   Unnamed: 0  Sepal.Length  Sepal.Width  Petal.Length  Petal.Width Species\n",
      "0           1           5.1          3.5           1.4          0.2  setosa\n",
      "1           2           4.9          3.0           1.4          0.2  setosa\n",
      "2           3           4.7          3.2           1.3          0.2  setosa\n",
      "3           4           4.6          3.1           1.5          0.2  setosa\n",
      "4           5           5.0          3.6           1.4          0.2  setosa\n",
      "                        \n",
      "The Test Data Details:- \n",
      "   Unnamed: 0  Sepal.Length  Sepal.Width  Petal.Length  Petal.Width Species\n",
      "0           7           4.6          3.4           1.4          0.3  setosa\n",
      "1           8           5.0          3.4           1.5          0.2  setosa\n",
      "2           9           4.4          2.9           1.4          0.2  setosa\n",
      "3          10           4.9          3.1           1.5          0.1  setosa\n",
      "4          16           5.7          4.4           1.5          0.4  setosa\n"
     ]
    }
   ],
   "source": [
    "#Loading the data and details of the data\n",
    "data_path = \"J:/ISB Business Analytics/Data Mining 2/Home Work Datasets 1/IRIS/\"\n",
    "train = pd.read_csv(data_path + \"train.csv\")\n",
    "test = pd.read_csv(data_path + \"test.csv\")\n",
    "\n",
    "#Details of the data\n",
    "print (\"The Train Data Details:- \")\n",
    "print (train.head())\n",
    "print (\"                        \")\n",
    "print (\"The Test Data Details:- \")\n",
    "print (test.head())"
   ]
  },
  {
   "cell_type": "code",
   "execution_count": 375,
   "metadata": {
    "collapsed": false
   },
   "outputs": [],
   "source": [
    "#remove the unnamed: 0 column\n",
    "train = train.ix[0:, 1:]\n",
    "test  = test.ix[0:, 1:]"
   ]
  },
  {
   "cell_type": "code",
   "execution_count": 376,
   "metadata": {
    "collapsed": false
   },
   "outputs": [
    {
     "data": {
      "text/plain": [
       "<matplotlib.axes._subplots.AxesSubplot at 0xe0859870f0>"
      ]
     },
     "execution_count": 376,
     "metadata": {},
     "output_type": "execute_result"
    },
    {
     "data": {
      "image/png": "[encoded data removed]",
      "text/plain": [
       "<matplotlib.figure.Figure at 0xe084a187f0>"
      ]
     },
     "metadata": {},
     "output_type": "display_data"
    }
   ],
   "source": [
    "#Correlation matrix\n",
    "corr = train.corr()\n",
    "sns.heatmap(corr, \n",
    "            xticklabels=corr.columns.values,\n",
    "            yticklabels=corr.columns.values)"
   ]
  },
  {
   "cell_type": "code",
   "execution_count": 377,
   "metadata": {
    "collapsed": false
   },
   "outputs": [
    {
     "name": "stdout",
     "output_type": "stream",
     "text": [
      "The total number of training data columns is 5.\n",
      "The total number of training data rows is 77.\n",
      "      \n",
      "The training data column name :-\n",
      "Index(['Sepal.Length', 'Sepal.Width', 'Petal.Length', 'Petal.Width',\n",
      "       'Species'],\n",
      "      dtype='object')\n",
      "      \n",
      "Different species :-\n",
      "setosa        29\n",
      "versicolor    28\n",
      "virginica     20\n",
      "Name: Species, dtype: int64\n"
     ]
    }
   ],
   "source": [
    "train_row_cnt, train_col_cnt = train.shape\n",
    "\n",
    "print (\"The total number of training data columns is {}.\".format(train_col_cnt))\n",
    "print (\"The total number of training data rows is {}.\".format(train_row_cnt))\n",
    "print (\"      \")\n",
    "\n",
    "train_cols = train.columns\n",
    "print (\"The training data column name :-\")\n",
    "print(train_cols)\n",
    "print (\"      \")\n",
    "\n",
    "#Health check for classification of species\n",
    "print (\"Different species :-\")\n",
    "print(pd.value_counts(train['Species']))"
   ]
  },
  {
   "cell_type": "code",
   "execution_count": 378,
   "metadata": {
    "collapsed": false
   },
   "outputs": [
    {
     "name": "stderr",
     "output_type": "stream",
     "text": [
      "C:\\Users\\Subba Reddy Yeruva\\Anaconda3\\lib\\site-packages\\matplotlib\\axes\\_axes.py:519: UserWarning: No labelled objects found. Use label='...' kwarg on individual plots.\n",
      "  warnings.warn(\"No labelled objects found. \"\n"
     ]
    },
    {
     "data": {
      "image/png": "[encoded data removed]",
      "text/plain": [
       "<matplotlib.figure.Figure at 0xe084a90780>"
      ]
     },
     "metadata": {},
     "output_type": "display_data"
    },
    {
     "data": {
      "image/png": "[encoded data removed]",
      "text/plain": [
       "<matplotlib.figure.Figure at 0xe1902b65f8>"
      ]
     },
     "metadata": {},
     "output_type": "display_data"
    },
    {
     "data": {
      "image/png": "[encoded data removed]",
      "text/plain": [
       "<matplotlib.figure.Figure at 0xe0857d2b00>"
      ]
     },
     "metadata": {},
     "output_type": "display_data"
    },
    {
     "data": {
      "image/png": "[encoded data removed]",
      "text/plain": [
       "<matplotlib.figure.Figure at 0xe1902d75c0>"
      ]
     },
     "metadata": {},
     "output_type": "display_data"
    },
    {
     "data": {
      "image/png": "[encoded data removed]",
      "text/plain": [
       "<matplotlib.figure.Figure at 0xe0871126a0>"
      ]
     },
     "metadata": {},
     "output_type": "display_data"
    },
    {
     "data": {
      "image/png": "[encoded data removed]",
      "text/plain": [
       "<matplotlib.figure.Figure at 0xe167dcbcc0>"
      ]
     },
     "metadata": {},
     "output_type": "display_data"
    }
   ],
   "source": [
    "#the lengths are given in 4 columns and 5th column is label. So here the loop should be iterated for 4 times. \n",
    "#As per the indexing(starts from 0) of python to avoid the label 2 should be subtracted from total column count.\n",
    "#First loop to start from first column\n",
    "for i in range(0,train_col_cnt-2):\n",
    "    i_plus = i + 1\n",
    "    # Second loop to iterate from the 2nd column to 4th column, which will pair the features for scatter plot\n",
    "    for j in range(i_plus,train_col_cnt-1):\n",
    "        # To generate new picture the below command is required\n",
    "        plt.figure()\n",
    "        # Third loop to iterate through the rows. Assign the color and markers as per the label of the day.     \n",
    "        for k in range(0,train_row_cnt-1):\n",
    "            x, y = [train.ix[k,i], train.ix[k,j]]\n",
    "            scale = 80.0\n",
    "            # determine color\n",
    "            flower = train.ix[k,train_col_cnt-1]\n",
    "            # the variables color and mark are used to assign the color and marker to the corordinates.\n",
    "            color = \"\"\n",
    "            mark =  \" \"\n",
    "            if flower == \"setosa\":\n",
    "                color = \"red\"\n",
    "                mark = \"p\"\n",
    "            elif flower == \"versicolor\":\n",
    "                color = \"green\"\n",
    "                mark = \"o\"\n",
    "            elif flower == \"virginica\":\n",
    "                color = \"blue\"\n",
    "                mark = \"*\"\n",
    "            \n",
    "            plt.scatter(x, y, s=scale, c=color, marker=mark, alpha=1, edgecolor=\"none\")\n",
    "    \n",
    "        # Legend\n",
    "        red_patch = mpatches.Patch(color='red', label='setosa')\n",
    "        green_patch = mpatches.Patch(color='green', label='versicolor')\n",
    "        blue_patch = mpatches.Patch(color='blue', label='virginica')\n",
    "        plt.legend(handles=[red_patch, green_patch, blue_patch])\n",
    "\n",
    "        #plt.title(\"The Iris Data Set\", fontsize=18)\n",
    "        plt.xlabel(train_cols[i], fontsize=15)\n",
    "        plt.ylabel(train_cols[j], fontsize=15)\n",
    "\n",
    "        plt.legend()\n",
    "        plt.grid(True)\n",
    "\n",
    "        plt.show()"
   ]
  },
  {
   "cell_type": "markdown",
   "metadata": {},
   "source": [
    "# P 1.1 Scatter Plots and Inference"
   ]
  },
  {
   "cell_type": "markdown",
   "metadata": {},
   "source": [
    "1. In all the scatter plots above \"setosa\" is clearly distinguishable from other two species \"versicolor\" and \"virginica\".\n",
    "2. From Above it can be infered that the species \"versicolor\" and \"virginica\" are similar.\n"
   ]
  },
  {
   "cell_type": "markdown",
   "metadata": {},
   "source": [
    "# P 1.2 Meta-class combining \"versicolor\" and \"virginica\""
   ]
  },
  {
   "cell_type": "markdown",
   "metadata": {},
   "source": [
    "Lets create a “meta-class” combining class 1 and class 2 (or whichever are the two most similar classes). Lets call it class 4."
   ]
  },
  {
   "cell_type": "code",
   "execution_count": 379,
   "metadata": {
    "collapsed": false
   },
   "outputs": [
    {
     "name": "stdout",
     "output_type": "stream",
     "text": [
      "Different species :-\n",
      "class 4    48\n",
      "setosa     29\n",
      "Name: Species, dtype: int64\n",
      "      \n",
      "Details of modified data set :-\n",
      "   Sepal.Length  Sepal.Width  Petal.Length  Petal.Width Species\n",
      "0           5.1          3.5           1.4          0.2  setosa\n",
      "1           4.9          3.0           1.4          0.2  setosa\n",
      "2           4.7          3.2           1.3          0.2  setosa\n",
      "3           4.6          3.1           1.5          0.2  setosa\n",
      "4           5.0          3.6           1.4          0.2  setosa\n",
      "    Sepal.Length  Sepal.Width  Petal.Length  Petal.Width  Species\n",
      "72           6.8          3.2           5.9          2.3  class 4\n",
      "73           6.7          3.0           5.2          2.3  class 4\n",
      "74           6.5          3.0           5.2          2.0  class 4\n",
      "75           6.2          3.4           5.4          2.3  class 4\n",
      "76           5.9          3.0           5.1          1.8  class 4\n"
     ]
    }
   ],
   "source": [
    "train_meta_class = copy.deepcopy(train)\n",
    "train_meta_class.loc[((train_meta_class['Species'] == 'versicolor') | (train_meta_class['Species'] == 'virginica')),\n",
    "          'Species']='class 4'\n",
    "#Health check for classification of species\n",
    "print (\"Different species :-\")\n",
    "print(pd.value_counts(train_meta_class['Species']))\n",
    "print (\"      \")\n",
    "\n",
    "print (\"Details of modified data set :-\")\n",
    "print(train_meta_class.head())\n",
    "print(train_meta_class.tail())"
   ]
  },
  {
   "cell_type": "markdown",
   "metadata": {},
   "source": [
    "1. The actual data classification stats are as below:                          \n",
    "    setosa        :29,                                                                                                             \n",
    "    versicolor    :28,       \n",
    "    virginica     :20 \n",
    "2. After combining identical species the classification stats are as below:                \n",
    "    class 4       :48,                          \n",
    "    setosa        :29\n",
    "3. Note:  There is no change in the count of \"setosa\" species in the dataset, hence it can be infered that the data modification is correct.  "
   ]
  },
  {
   "cell_type": "markdown",
   "metadata": {},
   "source": [
    "# P 1.3 First Fisher discriminate"
   ]
  },
  {
   "cell_type": "markdown",
   "metadata": {},
   "source": [
    "Create the first Fisher projection by trying to discriminate class 3 (the\n",
    "different class) from class 4 (the meta-class).\n",
    "¤ Do this on training data only"
   ]
  },
  {
   "cell_type": "markdown",
   "metadata": {},
   "source": [
    "References :                                                 \n",
    "https://en.wikipedia.org/wiki/Linear_discriminant_analysis                          \n",
    "                                 \n",
    "http://eminer.pythonanywhere.com/fishers-linear-discriminant-analysis/                               \n",
    "\n",
    "http://eminer.pythonanywhere.com/implementing-fishers-lda-in-python/"
   ]
  },
  {
   "cell_type": "code",
   "execution_count": 380,
   "metadata": {
    "collapsed": true
   },
   "outputs": [],
   "source": [
    "def ByClass(dataset):        #separate data by clas\n",
    "\n",
    "    classes = np.unique(dataset[:,-1])\n",
    "    div_class = {}\n",
    "    for i in classes:\n",
    "        div_class[i] = dataset[dataset[:,-1] == i]\n",
    "\n",
    "    return div_class\n",
    "\n",
    "def Mean(data):\n",
    "    mean = data.mean(axis = 0)\n",
    "    \n",
    "    return mean"
   ]
  },
  {
   "cell_type": "code",
   "execution_count": 381,
   "metadata": {
    "collapsed": false,
    "scrolled": true
   },
   "outputs": [
    {
     "name": "stdout",
     "output_type": "stream",
     "text": [
      "Vector =  [[ 0.03436453]\n",
      " [ 0.15702405]\n",
      " [-0.15843383]\n",
      " [-0.03931312]]\n",
      "Fisher discriminant value =  0.146383292514\n"
     ]
    },
    {
     "data": {
      "image/png": "[encoded data removed]",
      "text/plain": [
       "<matplotlib.figure.Figure at 0xe18fbfdcc0>"
      ]
     },
     "metadata": {},
     "output_type": "display_data"
    }
   ],
   "source": [
    "def LoadFile(filename):        #load input file containing training data\n",
    "    dataset =[]\n",
    "    dataset = filename\n",
    "    dataset.loc[((dataset['Species'] == 'class 4') ),\n",
    "          'Species']='2'\n",
    "    dataset.loc[((dataset['Species'] == 'setosa') ),\n",
    "          'Species']='1'\n",
    "    \n",
    "    dataset = np.array(dataset).astype(np.float64)\n",
    "    return dataset\n",
    "\n",
    "\n",
    "def Threshold(vector, data1, data2):\n",
    "    mu1 = Mean(np.dot(vector, data1.T))\n",
    "    mu2 = Mean(np.dot(vector, data2.T))\n",
    "    #print (mu1, mu2)\n",
    "    print (\"Fisher discriminant value = \",(mu1+mu2)/2)\n",
    "    return (mu1+mu2)/2, mu1, mu2\n",
    "#def Projection1D()    \n",
    "def main(dataset):        #assuming given two class problem\n",
    "    div_data = ByClass(dataset)\n",
    "    class1, class2 = div_data\n",
    "    class1_data, class2_data = div_data[class1], div_data[class2] \n",
    "    class1_data = class1_data[:,:-1]\n",
    "             #removing the class labels from the data as they are not required to calculate mean\n",
    "    class2_data = class2_data[:,:-1]\n",
    "    mean1 = Mean(class1_data)\n",
    "    mean2 = Mean(class2_data)\n",
    "    mean = Mean(dataset[:,:-1])\n",
    "    mean1, mean2, mean = mean1.T, mean2.T, mean.T\n",
    "\n",
    "    m,n = class1_data.shape\n",
    "    diff1 = class1_data - np.array(list(mean1)*m).reshape(m,n)\n",
    "\n",
    "    m,n = class2_data.shape\n",
    "    diff2 = class2_data - np.array(list(mean2)*m).reshape(m,n)\n",
    "\n",
    "    diff = np.concatenate([diff1, diff2])\n",
    "    m, n = diff.shape\n",
    "\n",
    "    withinClass = np.zeros((n,n))\n",
    "    diff = np.matrix(diff)\n",
    "\n",
    "    for i in range(m):\n",
    "        withinClass += np.dot(diff[i,:].T, diff[i,:])\n",
    "\n",
    "    opt_dir_vector = np.dot(np.linalg.inv(withinClass), (mean1 - mean2))\n",
    "    print ('Vector = ', np.matrix(opt_dir_vector).T)\n",
    "\n",
    "    threshold = Threshold(opt_dir_vector, class1_data, class2_data)\n",
    "\n",
    "    #print ('Threshold = ', threshold, 'm1 = ', class1_data, 'm2 = ', class2_data)\n",
    "    #print ('Threshold = ', threshold)\n",
    "    #projection of classes on 1D space\n",
    "    x1 = np.dot(class1_data, opt_dir_vector)\n",
    "    y1 = np.array([0]*class1_data.shape[0])\n",
    "    x2 = np.dot(class2_data, opt_dir_vector)\n",
    "    y2 = np.array([0]*class2_data.shape[0])\n",
    "    #print(\"vect shape:\",opt_dir_vector.shape )\n",
    "    #print(\"x 1 shape:\",x1.shape )\n",
    "    #print(\"y 1 shape:\",y1.shape )\n",
    "    #print(\"x 2 shape:\",x2.shape )\n",
    "    #print(\"y 2 shape:\",y2.shape )\n",
    "    \n",
    "    plt.plot(x1,y1, \"bo\", label=\"Iris-setosa\")\n",
    "    plt.plot(x2,y2, \"go\", label=\"Iris-versicolor and Iris-virginica\")\n",
    "    plt.legend()\n",
    "    \n",
    "if __name__ == '__main__':    \n",
    "    \n",
    "    filename = []\n",
    "    filename = copy.deepcopy(train_meta_class)\n",
    "\n",
    "    dataset = LoadFile(filename)\n",
    "\n",
    "    main(dataset)"
   ]
  },
  {
   "cell_type": "markdown",
   "metadata": {},
   "source": [
    "1. From above the first fisher projection vector deatails are as below.                               \n",
    " [ 0.03436453]                               \n",
    " [ 0.15702405]                                \n",
    " [-0.15843383]                                   \n",
    " [-0.03931312]   \n",
    "2. Fisher Discriminant Value is 0.146383292514"
   ]
  },
  {
   "cell_type": "markdown",
   "metadata": {},
   "source": [
    "# P 1.4 Second Fisher discriminate"
   ]
  },
  {
   "cell_type": "markdown",
   "metadata": {},
   "source": [
    "Create the second Fisher projection by trying to discriminate class 1 from class 2 (the original two similar classes).            \n",
    "¤ Do this on training data only"
   ]
  },
  {
   "cell_type": "code",
   "execution_count": 382,
   "metadata": {
    "collapsed": false
   },
   "outputs": [
    {
     "name": "stdout",
     "output_type": "stream",
     "text": [
      "Vector =  [[ 0.06134601]\n",
      " [ 0.16986251]\n",
      " [-0.16487636]\n",
      " [-0.35677647]]\n",
      "Fisher discriminant value =  -0.546254365046\n"
     ]
    },
    {
     "data": {
      "image/png": "[encoded data removed]",
      "text/plain": [
       "<matplotlib.figure.Figure at 0xe085a013c8>"
      ]
     },
     "metadata": {},
     "output_type": "display_data"
    }
   ],
   "source": [
    "def LoadFile2(filename):        #load input file containing training data\n",
    "    dataset =[]\n",
    "    dataset = filename\n",
    "    dataset.loc[((dataset['Species'] == 'versicolor') ),\n",
    "          'Species']='1'\n",
    "    dataset.loc[((dataset['Species'] == 'virginica') ),\n",
    "          'Species']='2'\n",
    "    \n",
    "    dataset = np.array(dataset).astype(np.float64)\n",
    "    return dataset\n",
    "\n",
    "if __name__ == '__main__':    \n",
    "    filename = []\n",
    "    filename = copy.deepcopy(train)\n",
    "    #print(\"diff spec\", pd.value_counts(filename['Species']))\n",
    "    \n",
    "    filename = filename[filename.Species != \"setosa\"]\n",
    "    \n",
    "    #print(\"input shape : \", filename.shape)\n",
    "    #print(\"diff spec\", pd.value_counts(filename['Species']))\n",
    "    #print(filename.head())\n",
    "    \n",
    "    dataset = LoadFile2(filename)\n",
    "\n",
    "    main(dataset)"
   ]
  },
  {
   "cell_type": "markdown",
   "metadata": {},
   "source": [
    "1. From above the first fisher projection vector deatails are as below.                               \n",
    " [ 0.06134601]                 \n",
    " [ 0.16986251]             \n",
    " [-0.16487636]              \n",
    " [-0.35677647]                     \n",
    "2. Fisher Discriminant Value is -0.546254365046"
   ]
  },
  {
   "cell_type": "markdown",
   "metadata": {},
   "source": [
    "# P 1.5 Projection Of entire data"
   ]
  },
  {
   "cell_type": "markdown",
   "metadata": {},
   "source": [
    "Now project the entire data in these two projections and color code the\n",
    "class points.\n",
    "¤ Do this on test data only.\n",
    "\n",
    "References:         \n",
    "http://sebastianraschka.com/Articles/2014_python_lda.html"
   ]
  },
  {
   "cell_type": "code",
   "execution_count": 383,
   "metadata": {
    "collapsed": false
   },
   "outputs": [],
   "source": [
    "X = test.ix[0:,:4]\n",
    "y = test.ix[0:,4:]\n",
    "\n",
    "# converting into array\n",
    "y = np.ravel(y, order='C')\n",
    "\n",
    "# Label encoding \n",
    "enc = LabelEncoder()\n",
    "label_encoder = enc.fit(y)\n",
    "y = label_encoder.transform(y) + 1\n",
    "\n",
    "label_dict = {1: 'Setosa', 2: 'Versicolor', 3:'Virginica'}"
   ]
  },
  {
   "cell_type": "code",
   "execution_count": 384,
   "metadata": {
    "collapsed": false
   },
   "outputs": [
    {
     "name": "stderr",
     "output_type": "stream",
     "text": [
      "C:\\Users\\Subba Reddy Yeruva\\Anaconda3\\lib\\site-packages\\sklearn\\discriminant_analysis.py:457: UserWarning: The priors do not sum to 1. Renormalizing\n",
      "  UserWarning)\n"
     ]
    },
    {
     "data": {
      "text/plain": [
       "2"
      ]
     },
     "execution_count": 384,
     "metadata": {},
     "output_type": "execute_result"
    }
   ],
   "source": [
    "#Linear discriminant analysis through scikit learn\n",
    "sklearn_lda = LDA(n_components=2)\n",
    "X_lda_sklearn = sklearn_lda.fit_transform(X, y)\n",
    "\n",
    "#a = X_lda_sklearn.trace\n",
    "#print(a)\n",
    "sklearn_lda.coef_\n",
    "#sklearn_lda.tol\n",
    "\n",
    "sklearn_lda.n_components"
   ]
  },
  {
   "cell_type": "code",
   "execution_count": 385,
   "metadata": {
    "collapsed": false
   },
   "outputs": [],
   "source": [
    "#plot_scikit_lda(X_lda_sklearn, title='Default LDA via scikit-learn')\n",
    "\n",
    "def plot_scikit_lda(X, title):\n",
    "\n",
    "    ax = plt.subplot(111)\n",
    "    for label,marker,color in zip(\n",
    "        range(1,4),('^', 's', 'o'),('blue', 'red', 'green')):\n",
    "\n",
    "        plt.scatter(x=X[:,0][y == label],\n",
    "                    y=X[:,1][y == label] * -1, # flip the figure\n",
    "                    marker=marker,\n",
    "                    color=color,\n",
    "                    alpha=0.5,\n",
    "                    label=label_dict[label])\n",
    "\n",
    "    plt.xlabel('LD1')\n",
    "    plt.ylabel('LD2')\n",
    "\n",
    "    leg = plt.legend(loc='upper right', fancybox=True)\n",
    "    leg.get_frame().set_alpha(0.5)\n",
    "    plt.title(title)\n",
    "\n",
    "    # hide axis ticks\n",
    "    plt.tick_params(axis=\"both\", which=\"both\", bottom=\"off\", top=\"off\",  \n",
    "            labelbottom=\"on\", left=\"off\", right=\"off\", labelleft=\"on\")\n",
    "\n",
    "    # remove axis spines\n",
    "    ax.spines[\"top\"].set_visible(False)  \n",
    "    ax.spines[\"right\"].set_visible(False)\n",
    "    ax.spines[\"bottom\"].set_visible(False)\n",
    "    ax.spines[\"left\"].set_visible(False)    \n",
    "\n",
    "    plt.grid()\n",
    "    plt.tight_layout\n",
    "    plt.show()"
   ]
  },
  {
   "cell_type": "code",
   "execution_count": 386,
   "metadata": {
    "collapsed": false
   },
   "outputs": [
    {
     "data": {
      "image/png": "[encoded data removed]",
      "text/plain": [
       "<matplotlib.figure.Figure at 0xe086d8d278>"
      ]
     },
     "metadata": {},
     "output_type": "display_data"
    }
   ],
   "source": [
    "plot_scikit_lda(X_lda_sklearn, title='LDA via scikit-learn')"
   ]
  },
  {
   "cell_type": "markdown",
   "metadata": {},
   "source": [
    "# P 1.6 Observations on Fisher Discriminant"
   ]
  },
  {
   "cell_type": "markdown",
   "metadata": {},
   "source": [
    "It is evident from the results that Setosa is clearly distinguishable from Versicolor and Virginica. \n",
    "Versicolor and Virginica are not clearly seperable but after the fisher discriminat they are seperated with less value."
   ]
  },
  {
   "cell_type": "markdown",
   "metadata": {},
   "source": [
    "# P2 : MUSHROOM information gain"
   ]
  },
  {
   "cell_type": "code",
   "execution_count": 387,
   "metadata": {
    "collapsed": false
   },
   "outputs": [
    {
     "name": "stdout",
     "output_type": "stream",
     "text": [
      "The Train Data Details:- \n",
      "   Unnamed: 0 V1 V2 V3 V4 V5 V6 V7 V8 V9 ... V14 V15 V16 V17 V18 V19 V20 V21  \\\n",
      "0           1  p  x  s  n  t  p  f  c  n ...   s   w   w   p   w   o   p   k   \n",
      "1           2  e  x  s  y  t  a  f  c  b ...   s   w   w   p   w   o   p   n   \n",
      "2           3  e  b  s  w  t  l  f  c  b ...   s   w   w   p   w   o   p   n   \n",
      "3           4  p  x  y  w  t  p  f  c  n ...   s   w   w   p   w   o   p   k   \n",
      "4           5  e  x  s  g  f  n  f  w  b ...   s   w   w   p   w   o   e   n   \n",
      "\n",
      "  V22 V23  \n",
      "0   s   u  \n",
      "1   n   g  \n",
      "2   n   m  \n",
      "3   s   u  \n",
      "4   a   g  \n",
      "\n",
      "[5 rows x 24 columns]\n",
      "                        \n",
      "The Test Data Details:- \n",
      "   Unnamed: 0 V1 V2 V3 V4 V5 V6 V7 V8 V9 ... V14 V15 V16 V17 V18 V19 V20 V21  \\\n",
      "0           7  e  b  s  w  t  a  f  c  b ...   s   w   w   p   w   o   p   k   \n",
      "1           8  e  b  y  w  t  l  f  c  b ...   s   w   w   p   w   o   p   n   \n",
      "2           9  p  x  y  w  t  p  f  c  n ...   s   w   w   p   w   o   p   k   \n",
      "3          10  e  b  s  y  t  a  f  c  b ...   s   w   w   p   w   o   p   k   \n",
      "4          16  e  s  f  g  f  n  f  c  n ...   s   w   w   p   w   o   p   n   \n",
      "\n",
      "  V22 V23  \n",
      "0   n   m  \n",
      "1   s   m  \n",
      "2   v   g  \n",
      "3   s   m  \n",
      "4   y   u  \n",
      "\n",
      "[5 rows x 24 columns]\n"
     ]
    }
   ],
   "source": [
    "#Loading the data and details of the data\n",
    "data_path = \"J:/ISB Business Analytics/Data Mining 2/Home Work Datasets 1/Mushroom/\"\n",
    "train_mushroom = pd.read_csv(data_path + \"train.csv\")\n",
    "test_mushroom = pd.read_csv(data_path + \"test.csv\")\n",
    "\n",
    "#Details of the data\n",
    "print (\"The Train Data Details:- \")\n",
    "print (train_mushroom.head())\n",
    "print (\"                        \")\n",
    "print (\"The Test Data Details:- \")\n",
    "print (test_mushroom.head())\n",
    "\n",
    "#remove the unnamed: 0 column\n",
    "train_mushroom = train_mushroom.ix[0:, 1:]\n",
    "test_mushroom  = test_mushroom.ix[0:, 1:]"
   ]
  },
  {
   "cell_type": "code",
   "execution_count": 388,
   "metadata": {
    "collapsed": false
   },
   "outputs": [
    {
     "data": {
      "text/html": [
       "<div>\n",
       "<table border=\"1\" class=\"dataframe\">\n",
       "  <thead>\n",
       "    <tr style=\"text-align: right;\">\n",
       "      <th></th>\n",
       "      <th>V1</th>\n",
       "      <th>V2</th>\n",
       "      <th>V3</th>\n",
       "      <th>V4</th>\n",
       "      <th>V5</th>\n",
       "      <th>V6</th>\n",
       "      <th>V7</th>\n",
       "      <th>V8</th>\n",
       "      <th>V9</th>\n",
       "      <th>V10</th>\n",
       "      <th>...</th>\n",
       "      <th>V14</th>\n",
       "      <th>V15</th>\n",
       "      <th>V16</th>\n",
       "      <th>V17</th>\n",
       "      <th>V18</th>\n",
       "      <th>V19</th>\n",
       "      <th>V20</th>\n",
       "      <th>V21</th>\n",
       "      <th>V22</th>\n",
       "      <th>V23</th>\n",
       "    </tr>\n",
       "  </thead>\n",
       "  <tbody>\n",
       "    <tr>\n",
       "      <th>0</th>\n",
       "      <td>p</td>\n",
       "      <td>x</td>\n",
       "      <td>s</td>\n",
       "      <td>n</td>\n",
       "      <td>t</td>\n",
       "      <td>p</td>\n",
       "      <td>f</td>\n",
       "      <td>c</td>\n",
       "      <td>n</td>\n",
       "      <td>k</td>\n",
       "      <td>...</td>\n",
       "      <td>s</td>\n",
       "      <td>w</td>\n",
       "      <td>w</td>\n",
       "      <td>p</td>\n",
       "      <td>w</td>\n",
       "      <td>o</td>\n",
       "      <td>p</td>\n",
       "      <td>k</td>\n",
       "      <td>s</td>\n",
       "      <td>u</td>\n",
       "    </tr>\n",
       "    <tr>\n",
       "      <th>1</th>\n",
       "      <td>e</td>\n",
       "      <td>x</td>\n",
       "      <td>s</td>\n",
       "      <td>y</td>\n",
       "      <td>t</td>\n",
       "      <td>a</td>\n",
       "      <td>f</td>\n",
       "      <td>c</td>\n",
       "      <td>b</td>\n",
       "      <td>k</td>\n",
       "      <td>...</td>\n",
       "      <td>s</td>\n",
       "      <td>w</td>\n",
       "      <td>w</td>\n",
       "      <td>p</td>\n",
       "      <td>w</td>\n",
       "      <td>o</td>\n",
       "      <td>p</td>\n",
       "      <td>n</td>\n",
       "      <td>n</td>\n",
       "      <td>g</td>\n",
       "    </tr>\n",
       "    <tr>\n",
       "      <th>2</th>\n",
       "      <td>e</td>\n",
       "      <td>b</td>\n",
       "      <td>s</td>\n",
       "      <td>w</td>\n",
       "      <td>t</td>\n",
       "      <td>l</td>\n",
       "      <td>f</td>\n",
       "      <td>c</td>\n",
       "      <td>b</td>\n",
       "      <td>n</td>\n",
       "      <td>...</td>\n",
       "      <td>s</td>\n",
       "      <td>w</td>\n",
       "      <td>w</td>\n",
       "      <td>p</td>\n",
       "      <td>w</td>\n",
       "      <td>o</td>\n",
       "      <td>p</td>\n",
       "      <td>n</td>\n",
       "      <td>n</td>\n",
       "      <td>m</td>\n",
       "    </tr>\n",
       "    <tr>\n",
       "      <th>3</th>\n",
       "      <td>p</td>\n",
       "      <td>x</td>\n",
       "      <td>y</td>\n",
       "      <td>w</td>\n",
       "      <td>t</td>\n",
       "      <td>p</td>\n",
       "      <td>f</td>\n",
       "      <td>c</td>\n",
       "      <td>n</td>\n",
       "      <td>n</td>\n",
       "      <td>...</td>\n",
       "      <td>s</td>\n",
       "      <td>w</td>\n",
       "      <td>w</td>\n",
       "      <td>p</td>\n",
       "      <td>w</td>\n",
       "      <td>o</td>\n",
       "      <td>p</td>\n",
       "      <td>k</td>\n",
       "      <td>s</td>\n",
       "      <td>u</td>\n",
       "    </tr>\n",
       "    <tr>\n",
       "      <th>4</th>\n",
       "      <td>e</td>\n",
       "      <td>x</td>\n",
       "      <td>s</td>\n",
       "      <td>g</td>\n",
       "      <td>f</td>\n",
       "      <td>n</td>\n",
       "      <td>f</td>\n",
       "      <td>w</td>\n",
       "      <td>b</td>\n",
       "      <td>k</td>\n",
       "      <td>...</td>\n",
       "      <td>s</td>\n",
       "      <td>w</td>\n",
       "      <td>w</td>\n",
       "      <td>p</td>\n",
       "      <td>w</td>\n",
       "      <td>o</td>\n",
       "      <td>e</td>\n",
       "      <td>n</td>\n",
       "      <td>a</td>\n",
       "      <td>g</td>\n",
       "    </tr>\n",
       "  </tbody>\n",
       "</table>\n",
       "<p>5 rows × 23 columns</p>\n",
       "</div>"
      ],
      "text/plain": [
       "  V1 V2 V3 V4 V5 V6 V7 V8 V9 V10 ... V14 V15 V16 V17 V18 V19 V20 V21 V22 V23\n",
       "0  p  x  s  n  t  p  f  c  n   k ...   s   w   w   p   w   o   p   k   s   u\n",
       "1  e  x  s  y  t  a  f  c  b   k ...   s   w   w   p   w   o   p   n   n   g\n",
       "2  e  b  s  w  t  l  f  c  b   n ...   s   w   w   p   w   o   p   n   n   m\n",
       "3  p  x  y  w  t  p  f  c  n   n ...   s   w   w   p   w   o   p   k   s   u\n",
       "4  e  x  s  g  f  n  f  w  b   k ...   s   w   w   p   w   o   e   n   a   g\n",
       "\n",
       "[5 rows x 23 columns]"
      ]
     },
     "execution_count": 388,
     "metadata": {},
     "output_type": "execute_result"
    }
   ],
   "source": [
    "train_mushroom.head()"
   ]
  },
  {
   "cell_type": "code",
   "execution_count": 389,
   "metadata": {
    "collapsed": false
   },
   "outputs": [
    {
     "name": "stdout",
     "output_type": "stream",
     "text": [
      "Note: Here False will indicate the value is present and True will indicate that the value is not present.\n",
      "      The values are shown in percentages.\n",
      "     False\n",
      "V1   100.0\n",
      "V2   100.0\n",
      "V3   100.0\n",
      "V4   100.0\n",
      "V5   100.0\n",
      "V6   100.0\n",
      "V7   100.0\n",
      "V8   100.0\n",
      "V9   100.0\n",
      "V10  100.0\n",
      "V11  100.0\n",
      "V12  100.0\n",
      "V13  100.0\n",
      "V14  100.0\n",
      "V15  100.0\n",
      "V16  100.0\n",
      "V17  100.0\n",
      "V18  100.0\n",
      "V19  100.0\n",
      "V20  100.0\n",
      "V21  100.0\n",
      "V22  100.0\n",
      "V23  100.0\n"
     ]
    }
   ],
   "source": [
    "trainnull = train_mushroom.isnull()\n",
    "trainnull_pcto = trainnull.apply(pd.value_counts).fillna(0)\n",
    "trainnull_pcto = trainnull_pcto.T\n",
    "#print(result)\n",
    "trainnull_pcto = trainnull_pcto.div(len(train_mushroom),axis=1)\n",
    "trainnull_pct = trainnull_pcto.mul(100,axis=1)\n",
    "print (\"Note: Here False will indicate the value is present and True will indicate that the value is not present.\")\n",
    "print (\"      The values are shown in percentages.\")\n",
    "print(trainnull_pct)"
   ]
  },
  {
   "cell_type": "code",
   "execution_count": 390,
   "metadata": {
    "collapsed": false
   },
   "outputs": [
    {
     "data": {
      "text/plain": [
       "4877"
      ]
     },
     "execution_count": 390,
     "metadata": {},
     "output_type": "execute_result"
    }
   ],
   "source": [
    "row, col = train_mushroom.shape\n",
    "row"
   ]
  },
  {
   "cell_type": "code",
   "execution_count": 391,
   "metadata": {
    "collapsed": false
   },
   "outputs": [
    {
     "name": "stdout",
     "output_type": "stream",
     "text": [
      "0.998984118223\n"
     ]
    }
   ],
   "source": [
    "# Claculating the entropy\n",
    "v1 = pd.value_counts(train_mushroom['V1'])\n",
    "\n",
    "entro = []\n",
    "entropy_before = 0\n",
    "\n",
    "length1 = len(v1) \n",
    "\n",
    "for i in range(0,length1):\n",
    "    \n",
    "    entro.append(v1[i]/row)\n",
    "    \n",
    "    e = entro[i] * math.log(entro[i],2)\n",
    "    e= e*(-1)\n",
    "    \n",
    "    entropy_before += e\n",
    "\n",
    "print(entropy_before)"
   ]
  },
  {
   "cell_type": "code",
   "execution_count": 392,
   "metadata": {
    "collapsed": false
   },
   "outputs": [
    {
     "name": "stdout",
     "output_type": "stream",
     "text": [
      "Feature name:  V2\n",
      "Unique values count:    V2  count\n",
      "0  b    265\n",
      "1  c      2\n",
      "2  f   1855\n",
      "3  k    498\n",
      "4  s     17\n",
      "5  x   2240\n",
      "Feature name:  V3\n",
      "Unique values count:    V3  count\n",
      "0  f   1376\n",
      "1  g      4\n",
      "2  s   1540\n",
      "3  y   1957\n",
      "Feature name:  V4\n",
      "Unique values count:    V4  count\n",
      "0  b     98\n",
      "1  c     20\n",
      "2  e    893\n",
      "3  g   1122\n",
      "4  n   1369\n",
      "5  p     92\n",
      "6  r     11\n",
      "7  u      7\n",
      "8  w    627\n",
      "9  y    638\n",
      "Feature name:  V5\n",
      "Unique values count:    V5  count\n",
      "0  f   2849\n",
      "1  t   2028\n",
      "Feature name:  V6\n",
      "Unique values count:    V6  count\n",
      "0  a    241\n",
      "1  c    115\n",
      "2  f   1325\n",
      "3  l    244\n",
      "4  m     19\n",
      "5  n   2118\n",
      "6  p    153\n",
      "7  s    339\n",
      "8  y    323\n",
      "Feature name:  V7\n",
      "Unique values count:    V7  count\n",
      "0  a    129\n",
      "1  f   4748\n",
      "Feature name:  V8\n",
      "Unique values count:    V8  count\n",
      "0  c   4094\n",
      "1  w    783\n",
      "Feature name:  V9\n",
      "Unique values count:    V9  count\n",
      "0  b   3399\n",
      "1  n   1478\n",
      "Feature name:  V10\n",
      "Unique values count:     V10  count\n",
      "0    b   1025\n",
      "1    e     52\n",
      "2    g    458\n",
      "3    h    427\n",
      "4    k    240\n",
      "5    n    668\n",
      "6    o     41\n",
      "7    p    907\n",
      "8    r     14\n",
      "9    u    286\n",
      "10   w    713\n",
      "11   y     46\n",
      "Feature name:  V11\n",
      "Unique values count:    V11  count\n",
      "0   e   2139\n",
      "1   t   2738\n",
      "Feature name:  V12\n",
      "Unique values count:    V12  count\n",
      "0   b   3748\n",
      "1   c    335\n",
      "2   e    671\n",
      "3   r    123\n",
      "Feature name:  V13\n",
      "Unique values count:    V13  count\n",
      "0   f    327\n",
      "1   k   1424\n",
      "2   s   3111\n",
      "3   y     15\n",
      "Feature name:  V14\n",
      "Unique values count:    V14  count\n",
      "0   f    347\n",
      "1   k   1391\n",
      "2   s   2966\n",
      "3   y    173\n",
      "Feature name:  V15\n",
      "Unique values count:    V15  count\n",
      "0   b    282\n",
      "1   c     19\n",
      "2   e     53\n",
      "3   g    348\n",
      "4   n    259\n",
      "5   o    119\n",
      "6   p   1132\n",
      "7   w   2659\n",
      "8   y      6\n",
      "Feature name:  V16\n",
      "Unique values count:    V16  count\n",
      "0   b    261\n",
      "1   c     19\n",
      "2   e     61\n",
      "3   g    330\n",
      "4   n    303\n",
      "5   o    119\n",
      "6   p   1143\n",
      "7   w   2629\n",
      "8   y     12\n",
      "Feature name:  V17\n",
      "Unique values count:    V17  count\n",
      "0   p   4877\n",
      "Feature name:  V18\n",
      "Unique values count:    V18  count\n",
      "0   n     70\n",
      "1   o     49\n",
      "2   w   4752\n",
      "3   y      6\n",
      "Feature name:  V19\n",
      "Unique values count:    V19  count\n",
      "0   n     19\n",
      "1   o   4485\n",
      "2   t    373\n",
      "Feature name:  V20\n",
      "Unique values count:    V20  count\n",
      "0   e   1653\n",
      "1   f     28\n",
      "2   l    794\n",
      "3   n     19\n",
      "4   p   2383\n",
      "Feature name:  V21\n",
      "Unique values count:    V21  count\n",
      "0   b     28\n",
      "1   h    990\n",
      "2   k   1154\n",
      "3   n   1154\n",
      "4   o     32\n",
      "5   r     45\n",
      "6   u     25\n",
      "7   w   1422\n",
      "8   y     27\n",
      "Feature name:  V22\n",
      "Unique values count:    V22  count\n",
      "0   a    236\n",
      "1   c    212\n",
      "2   n    239\n",
      "3   s    766\n",
      "4   v   2380\n",
      "5   y   1044\n",
      "Feature name:  V23\n",
      "Unique values count:    V23  count\n",
      "0   d   1887\n",
      "1   g   1299\n",
      "2   l    494\n",
      "3   m    171\n",
      "4   p    682\n",
      "5   u    223\n",
      "6   w    121\n"
     ]
    }
   ],
   "source": [
    "# column names \n",
    "train_cols = train_mushroom.columns\n",
    "# Creating empty dataframe for storing the measured values\n",
    "measurement_info = pd.DataFrame()\n",
    "col_names = ['Feature_name','Accuracy','GINI index','1- Entropy','Information Gain']\n",
    "measurement_info = pd.DataFrame( columns=col_names)\n",
    "\n",
    "# appending the dataframe is inefficient, so create list of dictionaries and assing \n",
    "#the list of dictionary to dataframe out of the loop\n",
    "measr_list_dict = []\n",
    "\n",
    "# Process to calcualte the measurements\n",
    "for i in range(1,col):\n",
    "    # Processing feature/column name \n",
    "    print(\"Feature name: \", train_cols[i])\n",
    "    \n",
    "    # Feature stats, i.e., unique values count of the respective feature\n",
    "    uniq_count = pd.DataFrame({'count' : train_mushroom.groupby( train_cols[i] ).size()}).reset_index()\n",
    "    print(\"Unique values count: \", uniq_count)\n",
    "    \n",
    "    # group by respective feature and response variable. The counters will be used in entropy calculation of each feature\n",
    "    xyz = pd.DataFrame({'count' : train_mushroom.groupby( [ train_cols[i],'V1'] ).size()}).reset_index()\n",
    "    \n",
    "    # adding count variable\n",
    "    xyz['total_count'] = 0\n",
    "    length1 = len(uniq_count)\n",
    "    for j in range(0,length1):\n",
    "        xyz.loc[(xyz[train_cols[i]]==uniq_count[train_cols[i]][j]),'total_count']=uniq_count['count'][j]\n",
    "    \n",
    "    #****  Accuracy Calculation  **** \n",
    "    prob = []\n",
    "    for k in range(0,len(uniq_count)):\n",
    "        prob.append(uniq_count['count'][k]/row)\n",
    "    \n",
    "    # \"Max value element : \", max(list1)\n",
    "    accuracy = max(prob)\n",
    "    \n",
    "    # Entropy, 1 - entropy, gini index and information gain calculation\n",
    "    entro = []\n",
    "    entropy = 0\n",
    "    one_minus_entropy = 0\n",
    "    info_gain = 0\n",
    "    gini_measr = 0\n",
    "    length1 = len(xyz) \n",
    "    for l in range(0,length1):\n",
    "    \n",
    "        entro.append(xyz['count'][l]/xyz['total_count'][l])\n",
    "        ## Entropy process \n",
    "        e = entro[l] * math.log(entro[l],len(uniq_count)) if len(uniq_count) != 1 else 0\n",
    "        e= e*(-1)\n",
    "        exp_entr = xyz['total_count'][l]/row\n",
    "        e= e*exp_entr\n",
    "        entropy += e\n",
    "        # gini measure\n",
    "        #g = entro[l]*entro[l]\n",
    "        #gini_measr += g \n",
    "        ggg = xyz['count'][l]/row\n",
    "        g = ggg*(1-ggg)\n",
    "        gini_measr += g \n",
    "    # 1 - entropy    \n",
    "    one_minus_entropy = 1 - entropy\n",
    "    # Information gain\n",
    "    info_gain = entropy_before - entropy\n",
    "    \n",
    "    # preparing the list\n",
    "    dict_value = [train_cols[i],accuracy,gini_measr,one_minus_entropy,info_gain]     \n",
    "    \n",
    "    measr_list_dict.append(dict(zip(col_names, dict_value)))\n",
    "    \n",
    "# Assing the list of dictionary to dataframe\n",
    "measurement_info = pd.DataFrame(measr_list_dict)"
   ]
  },
  {
   "cell_type": "markdown",
   "metadata": {},
   "source": [
    "# P2.1 : Measurements in Tabluar Format"
   ]
  },
  {
   "cell_type": "code",
   "execution_count": 393,
   "metadata": {
    "collapsed": false
   },
   "outputs": [
    {
     "data": {
      "text/html": [
       "<div>\n",
       "<table border=\"1\" class=\"dataframe\">\n",
       "  <thead>\n",
       "    <tr style=\"text-align: right;\">\n",
       "      <th></th>\n",
       "      <th>1- Entropy</th>\n",
       "      <th>Accuracy</th>\n",
       "      <th>Feature_name</th>\n",
       "      <th>GINI index</th>\n",
       "      <th>Information Gain</th>\n",
       "    </tr>\n",
       "  </thead>\n",
       "  <tbody>\n",
       "    <tr>\n",
       "      <th>0</th>\n",
       "      <td>0.633047</td>\n",
       "      <td>0.459299</td>\n",
       "      <td>V2</td>\n",
       "      <td>0.812702</td>\n",
       "      <td>0.632032</td>\n",
       "    </tr>\n",
       "    <tr>\n",
       "      <th>1</th>\n",
       "      <td>0.512399</td>\n",
       "      <td>0.401271</td>\n",
       "      <td>V3</td>\n",
       "      <td>0.825104</td>\n",
       "      <td>0.511383</td>\n",
       "    </tr>\n",
       "    <tr>\n",
       "      <th>2</th>\n",
       "      <td>0.710693</td>\n",
       "      <td>0.280705</td>\n",
       "      <td>V4</td>\n",
       "      <td>0.896959</td>\n",
       "      <td>0.709677</td>\n",
       "    </tr>\n",
       "    <tr>\n",
       "      <th>3</th>\n",
       "      <td>0.194536</td>\n",
       "      <td>0.584171</td>\n",
       "      <td>V5</td>\n",
       "      <td>0.682776</td>\n",
       "      <td>0.193520</td>\n",
       "    </tr>\n",
       "    <tr>\n",
       "      <th>4</th>\n",
       "      <td>0.970364</td>\n",
       "      <td>0.434283</td>\n",
       "      <td>V6</td>\n",
       "      <td>0.734421</td>\n",
       "      <td>0.969348</td>\n",
       "    </tr>\n",
       "    <tr>\n",
       "      <th>5</th>\n",
       "      <td>0.016216</td>\n",
       "      <td>0.973549</td>\n",
       "      <td>V7</td>\n",
       "      <td>0.525386</td>\n",
       "      <td>0.015200</td>\n",
       "    </tr>\n",
       "    <tr>\n",
       "      <th>6</th>\n",
       "      <td>0.099974</td>\n",
       "      <td>0.839450</td>\n",
       "      <td>V8</td>\n",
       "      <td>0.621448</td>\n",
       "      <td>0.098958</td>\n",
       "    </tr>\n",
       "    <tr>\n",
       "      <th>7</th>\n",
       "      <td>0.236199</td>\n",
       "      <td>0.696945</td>\n",
       "      <td>V9</td>\n",
       "      <td>0.644589</td>\n",
       "      <td>0.235183</td>\n",
       "    </tr>\n",
       "    <tr>\n",
       "      <th>8</th>\n",
       "      <td>0.838626</td>\n",
       "      <td>0.210170</td>\n",
       "      <td>V10</td>\n",
       "      <td>0.893980</td>\n",
       "      <td>0.837610</td>\n",
       "    </tr>\n",
       "    <tr>\n",
       "      <th>9</th>\n",
       "      <td>0.008689</td>\n",
       "      <td>0.561411</td>\n",
       "      <td>V11</td>\n",
       "      <td>0.743024</td>\n",
       "      <td>0.007673</td>\n",
       "    </tr>\n",
       "    <tr>\n",
       "      <th>10</th>\n",
       "      <td>0.556210</td>\n",
       "      <td>0.768505</td>\n",
       "      <td>V12</td>\n",
       "      <td>0.680414</td>\n",
       "      <td>0.555194</td>\n",
       "    </tr>\n",
       "    <tr>\n",
       "      <th>11</th>\n",
       "      <td>0.642154</td>\n",
       "      <td>0.637892</td>\n",
       "      <td>V13</td>\n",
       "      <td>0.685032</td>\n",
       "      <td>0.641138</td>\n",
       "    </tr>\n",
       "    <tr>\n",
       "      <th>12</th>\n",
       "      <td>0.635321</td>\n",
       "      <td>0.608161</td>\n",
       "      <td>V14</td>\n",
       "      <td>0.713155</td>\n",
       "      <td>0.634305</td>\n",
       "    </tr>\n",
       "    <tr>\n",
       "      <th>13</th>\n",
       "      <td>0.766597</td>\n",
       "      <td>0.545212</td>\n",
       "      <td>V15</td>\n",
       "      <td>0.799842</td>\n",
       "      <td>0.765581</td>\n",
       "    </tr>\n",
       "    <tr>\n",
       "      <th>14</th>\n",
       "      <td>0.762332</td>\n",
       "      <td>0.539061</td>\n",
       "      <td>V16</td>\n",
       "      <td>0.802989</td>\n",
       "      <td>0.761316</td>\n",
       "    </tr>\n",
       "    <tr>\n",
       "      <th>15</th>\n",
       "      <td>1.000000</td>\n",
       "      <td>1.000000</td>\n",
       "      <td>V17</td>\n",
       "      <td>0.499296</td>\n",
       "      <td>0.998984</td>\n",
       "    </tr>\n",
       "    <tr>\n",
       "      <th>16</th>\n",
       "      <td>0.512892</td>\n",
       "      <td>0.974369</td>\n",
       "      <td>V18</td>\n",
       "      <td>0.524891</td>\n",
       "      <td>0.511876</td>\n",
       "    </tr>\n",
       "    <tr>\n",
       "      <th>17</th>\n",
       "      <td>0.394286</td>\n",
       "      <td>0.919623</td>\n",
       "      <td>V19</td>\n",
       "      <td>0.572386</td>\n",
       "      <td>0.393270</td>\n",
       "    </tr>\n",
       "    <tr>\n",
       "      <th>18</th>\n",
       "      <td>0.707874</td>\n",
       "      <td>0.488620</td>\n",
       "      <td>V20</td>\n",
       "      <td>0.750810</td>\n",
       "      <td>0.706858</td>\n",
       "    </tr>\n",
       "    <tr>\n",
       "      <th>19</th>\n",
       "      <td>0.836821</td>\n",
       "      <td>0.291573</td>\n",
       "      <td>V21</td>\n",
       "      <td>0.818358</td>\n",
       "      <td>0.835805</td>\n",
       "    </tr>\n",
       "    <tr>\n",
       "      <th>20</th>\n",
       "      <td>0.694228</td>\n",
       "      <td>0.488005</td>\n",
       "      <td>V22</td>\n",
       "      <td>0.814534</td>\n",
       "      <td>0.693212</td>\n",
       "    </tr>\n",
       "    <tr>\n",
       "      <th>21</th>\n",
       "      <td>0.699084</td>\n",
       "      <td>0.386918</td>\n",
       "      <td>V23</td>\n",
       "      <td>0.859419</td>\n",
       "      <td>0.698068</td>\n",
       "    </tr>\n",
       "  </tbody>\n",
       "</table>\n",
       "</div>"
      ],
      "text/plain": [
       "    1- Entropy  Accuracy Feature_name  GINI index  Information Gain\n",
       "0     0.633047  0.459299           V2    0.812702          0.632032\n",
       "1     0.512399  0.401271           V3    0.825104          0.511383\n",
       "2     0.710693  0.280705           V4    0.896959          0.709677\n",
       "3     0.194536  0.584171           V5    0.682776          0.193520\n",
       "4     0.970364  0.434283           V6    0.734421          0.969348\n",
       "5     0.016216  0.973549           V7    0.525386          0.015200\n",
       "6     0.099974  0.839450           V8    0.621448          0.098958\n",
       "7     0.236199  0.696945           V9    0.644589          0.235183\n",
       "8     0.838626  0.210170          V10    0.893980          0.837610\n",
       "9     0.008689  0.561411          V11    0.743024          0.007673\n",
       "10    0.556210  0.768505          V12    0.680414          0.555194\n",
       "11    0.642154  0.637892          V13    0.685032          0.641138\n",
       "12    0.635321  0.608161          V14    0.713155          0.634305\n",
       "13    0.766597  0.545212          V15    0.799842          0.765581\n",
       "14    0.762332  0.539061          V16    0.802989          0.761316\n",
       "15    1.000000  1.000000          V17    0.499296          0.998984\n",
       "16    0.512892  0.974369          V18    0.524891          0.511876\n",
       "17    0.394286  0.919623          V19    0.572386          0.393270\n",
       "18    0.707874  0.488620          V20    0.750810          0.706858\n",
       "19    0.836821  0.291573          V21    0.818358          0.835805\n",
       "20    0.694228  0.488005          V22    0.814534          0.693212\n",
       "21    0.699084  0.386918          V23    0.859419          0.698068"
      ]
     },
     "execution_count": 393,
     "metadata": {},
     "output_type": "execute_result"
    }
   ],
   "source": [
    "measurement_info   "
   ]
  },
  {
   "cell_type": "code",
   "execution_count": 394,
   "metadata": {
    "collapsed": false
   },
   "outputs": [
    {
     "data": {
      "text/plain": [
       "1.0"
      ]
     },
     "execution_count": 394,
     "metadata": {},
     "output_type": "execute_result"
    }
   ],
   "source": [
    "max(measurement_info['Accuracy'])"
   ]
  },
  {
   "cell_type": "markdown",
   "metadata": {},
   "source": [
    "# P2.2 : Accuracy vs. 1 – Entropy scatter plot"
   ]
  },
  {
   "cell_type": "code",
   "execution_count": 395,
   "metadata": {
    "collapsed": false
   },
   "outputs": [
    {
     "data": {
      "image/png": "[encoded data removed]",
      "text/plain": [
       "<matplotlib.figure.Figure at 0xe086d5ed30>"
      ]
     },
     "metadata": {},
     "output_type": "display_data"
    }
   ],
   "source": [
    "plt.scatter(measurement_info['Accuracy'],measurement_info['1- Entropy'], s=80)\n",
    "plt.title(\"accuracy vs. 1 – Entropy\", fontsize=18)\n",
    "plt.xlabel('Accuracy', fontsize=15)\n",
    "plt.ylabel('1- Entropy', fontsize=15)\n",
    "\n",
    "\n",
    "plt.grid(True)\n",
    "\n",
    "plt.show()"
   ]
  },
  {
   "cell_type": "markdown",
   "metadata": {},
   "source": [
    "# P3 : MUSHROOM NB/DT"
   ]
  },
  {
   "cell_type": "markdown",
   "metadata": {},
   "source": [
    "# P 3.1 Naive Bayes"
   ]
  },
  {
   "cell_type": "code",
   "execution_count": 396,
   "metadata": {
    "collapsed": false
   },
   "outputs": [],
   "source": [
    "#put the features into X (everything except the 0th column)\n",
    "X_train = pd.DataFrame(train_mushroom, columns=train_mushroom.columns[1:len(train_mushroom.columns)], index=train_mushroom.index)\n",
    "#put the class values (0th column) into Y \n",
    "Y_train = train_mushroom['V1']"
   ]
  },
  {
   "cell_type": "code",
   "execution_count": 397,
   "metadata": {
    "collapsed": false
   },
   "outputs": [],
   "source": [
    "#encode the text category labels as numeric\n",
    "from sklearn import preprocessing\n",
    "le = preprocessing.LabelEncoder()\n",
    "le.fit(Y_train)\n",
    "#print(le.classes_)\n",
    "#print(np.array(Y))\n",
    "#Y values now boolean values; poison = 1\n",
    "y_train = le.transform(Y_train)\n",
    "#print(y_train)\n",
    "\n",
    "#have to initialize or get error below\n",
    "x_train = pd.DataFrame(X_train,columns=[X_train.columns[0]])\n",
    "#encode each feature column and add it to x_train\n",
    "for colname in X_train.columns:\n",
    "    le.fit(X_train[colname])\n",
    "    #print(colname, le.classes_)\n",
    "    x_train[colname] = le.transform(X_train[colname])"
   ]
  },
  {
   "cell_type": "code",
   "execution_count": 398,
   "metadata": {
    "collapsed": true
   },
   "outputs": [],
   "source": [
    "#put the features into X (everything except the 0th column)\n",
    "X_test = pd.DataFrame(test_mushroom, columns=test_mushroom.columns[1:len(test_mushroom.columns)], index=test_mushroom.index)\n",
    "#put the class values (0th column) into Y \n",
    "Y_test = test_mushroom['V1']\n",
    "\n",
    "#encode the text category labels as numeric\n",
    "from sklearn import preprocessing\n",
    "le = preprocessing.LabelEncoder()\n",
    "le.fit(Y_test)\n",
    "#print(le.classes_)\n",
    "#print(np.array(Y))\n",
    "#Y values now boolean values; poison = 1\n",
    "y_test = le.transform(Y_test)\n",
    "#print(y_test)\n",
    "\n",
    "#have to initialize or get error below\n",
    "x_test = pd.DataFrame(X_test,columns=[X_test.columns[0]])\n",
    "#encode each feature column and add it to x_test\n",
    "for colname in X_test.columns:\n",
    "    le.fit(X_test[colname])\n",
    "    #print(colname, le.classes_)\n",
    "    x_test[colname] = le.transform(X_test[colname])"
   ]
  },
  {
   "cell_type": "code",
   "execution_count": 399,
   "metadata": {
    "collapsed": false
   },
   "outputs": [
    {
     "name": "stdout",
     "output_type": "stream",
     "text": [
      "Training accuracy: 0.83104367439\n",
      "Testing accuracy: 0.825069294734\n"
     ]
    }
   ],
   "source": [
    "#initialize and fit the naive bayes classifier\n",
    "from sklearn.naive_bayes import MultinomialNB\n",
    "skgnb = MultinomialNB()\n",
    "skgnb.fit(x_train,y_train)\n",
    "train_predict = skgnb.predict(x_train)\n",
    "#print(train_predict)\n",
    "\n",
    "#see how accurate the training data was fit\n",
    "from sklearn import metrics\n",
    "print(\"Training accuracy:\",metrics.accuracy_score(y_train, train_predict))\n",
    "\n",
    "#use the trained model to predict the test values\n",
    "test_predict = skgnb.predict(x_test)\n",
    "print(\"Testing accuracy:\",metrics.accuracy_score(y_test, test_predict))\n"
   ]
  },
  {
   "cell_type": "code",
   "execution_count": 400,
   "metadata": {
    "collapsed": true
   },
   "outputs": [],
   "source": [
    "accuracy_info = pd.DataFrame()\n",
    "col_names = ['lambda_value','training_accuracy','test_accuracy']\n",
    "accuracy_info = pd.DataFrame( columns=col_names)\n",
    "\n",
    "# appending the dataframe is inefficient, so create list of dictionaries and assing \n",
    "#the list of dictionary to dataframe out of the loop\n",
    "accur_list_dict = []"
   ]
  },
  {
   "cell_type": "code",
   "execution_count": 401,
   "metadata": {
    "collapsed": false
   },
   "outputs": [],
   "source": [
    "from sklearn.naive_bayes import MultinomialNB\n",
    "from sklearn import metrics\n",
    "for i in range(0,51):\n",
    "    skgnb = MultinomialNB(alpha=i)\n",
    "    skgnb.fit(x_train,y_train)\n",
    "    train_predict = skgnb.predict(x_train)\n",
    "    #print(train_predict)\n",
    "\n",
    "    #see how accurate the training data was fit\n",
    "    \n",
    "    #print(\"Training accuracy:\",metrics.accuracy_score(y_train, train_predict))\n",
    "    train_accur = metrics.accuracy_score(y_train, train_predict)\n",
    "    #use the trained model to predict the test values\n",
    "    test_predict = skgnb.predict(x_test)\n",
    "    #print(\"Testing accuracy:\",metrics.accuracy_score(y_test, test_predict))\n",
    "    test_accur = metrics.accuracy_score(y_test, test_predict)\n",
    "    \n",
    "    # preparing the list\n",
    "    dict_value = [i,test_accur,train_accur]     \n",
    "    \n",
    "    accur_list_dict .append(dict(zip(col_names, dict_value)))\n",
    "    \n",
    "# Assing the list of dictionary to dataframe\n",
    "accuracy_info = pd.DataFrame(accur_list_dict )"
   ]
  },
  {
   "cell_type": "markdown",
   "metadata": {},
   "source": [
    "# P 3.2 Naive Bayes Metrics"
   ]
  },
  {
   "cell_type": "code",
   "execution_count": 402,
   "metadata": {
    "collapsed": false
   },
   "outputs": [
    {
     "data": {
      "text/html": [
       "<div>\n",
       "<table border=\"1\" class=\"dataframe\">\n",
       "  <thead>\n",
       "    <tr style=\"text-align: right;\">\n",
       "      <th></th>\n",
       "      <th>lambda_value</th>\n",
       "      <th>test_accuracy</th>\n",
       "      <th>training_accuracy</th>\n",
       "    </tr>\n",
       "  </thead>\n",
       "  <tbody>\n",
       "    <tr>\n",
       "      <th>0</th>\n",
       "      <td>0</td>\n",
       "      <td>0.518762</td>\n",
       "      <td>0.516785</td>\n",
       "    </tr>\n",
       "    <tr>\n",
       "      <th>1</th>\n",
       "      <td>1</td>\n",
       "      <td>0.831044</td>\n",
       "      <td>0.825069</td>\n",
       "    </tr>\n",
       "    <tr>\n",
       "      <th>2</th>\n",
       "      <td>2</td>\n",
       "      <td>0.830634</td>\n",
       "      <td>0.824761</td>\n",
       "    </tr>\n",
       "    <tr>\n",
       "      <th>3</th>\n",
       "      <td>3</td>\n",
       "      <td>0.830634</td>\n",
       "      <td>0.824761</td>\n",
       "    </tr>\n",
       "    <tr>\n",
       "      <th>4</th>\n",
       "      <td>4</td>\n",
       "      <td>0.830634</td>\n",
       "      <td>0.824761</td>\n",
       "    </tr>\n",
       "    <tr>\n",
       "      <th>5</th>\n",
       "      <td>5</td>\n",
       "      <td>0.830634</td>\n",
       "      <td>0.824761</td>\n",
       "    </tr>\n",
       "    <tr>\n",
       "      <th>6</th>\n",
       "      <td>6</td>\n",
       "      <td>0.830634</td>\n",
       "      <td>0.824761</td>\n",
       "    </tr>\n",
       "    <tr>\n",
       "      <th>7</th>\n",
       "      <td>7</td>\n",
       "      <td>0.830429</td>\n",
       "      <td>0.824453</td>\n",
       "    </tr>\n",
       "    <tr>\n",
       "      <th>8</th>\n",
       "      <td>8</td>\n",
       "      <td>0.830429</td>\n",
       "      <td>0.824453</td>\n",
       "    </tr>\n",
       "    <tr>\n",
       "      <th>9</th>\n",
       "      <td>9</td>\n",
       "      <td>0.830223</td>\n",
       "      <td>0.824145</td>\n",
       "    </tr>\n",
       "    <tr>\n",
       "      <th>10</th>\n",
       "      <td>10</td>\n",
       "      <td>0.830223</td>\n",
       "      <td>0.824145</td>\n",
       "    </tr>\n",
       "    <tr>\n",
       "      <th>11</th>\n",
       "      <td>11</td>\n",
       "      <td>0.830223</td>\n",
       "      <td>0.824145</td>\n",
       "    </tr>\n",
       "    <tr>\n",
       "      <th>12</th>\n",
       "      <td>12</td>\n",
       "      <td>0.830223</td>\n",
       "      <td>0.824453</td>\n",
       "    </tr>\n",
       "    <tr>\n",
       "      <th>13</th>\n",
       "      <td>13</td>\n",
       "      <td>0.830223</td>\n",
       "      <td>0.824453</td>\n",
       "    </tr>\n",
       "    <tr>\n",
       "      <th>14</th>\n",
       "      <td>14</td>\n",
       "      <td>0.830223</td>\n",
       "      <td>0.824761</td>\n",
       "    </tr>\n",
       "    <tr>\n",
       "      <th>15</th>\n",
       "      <td>15</td>\n",
       "      <td>0.829813</td>\n",
       "      <td>0.824453</td>\n",
       "    </tr>\n",
       "    <tr>\n",
       "      <th>16</th>\n",
       "      <td>16</td>\n",
       "      <td>0.829608</td>\n",
       "      <td>0.824453</td>\n",
       "    </tr>\n",
       "    <tr>\n",
       "      <th>17</th>\n",
       "      <td>17</td>\n",
       "      <td>0.829608</td>\n",
       "      <td>0.824453</td>\n",
       "    </tr>\n",
       "    <tr>\n",
       "      <th>18</th>\n",
       "      <td>18</td>\n",
       "      <td>0.829608</td>\n",
       "      <td>0.824453</td>\n",
       "    </tr>\n",
       "    <tr>\n",
       "      <th>19</th>\n",
       "      <td>19</td>\n",
       "      <td>0.829403</td>\n",
       "      <td>0.824453</td>\n",
       "    </tr>\n",
       "    <tr>\n",
       "      <th>20</th>\n",
       "      <td>20</td>\n",
       "      <td>0.829198</td>\n",
       "      <td>0.824453</td>\n",
       "    </tr>\n",
       "    <tr>\n",
       "      <th>21</th>\n",
       "      <td>21</td>\n",
       "      <td>0.828788</td>\n",
       "      <td>0.824453</td>\n",
       "    </tr>\n",
       "    <tr>\n",
       "      <th>22</th>\n",
       "      <td>22</td>\n",
       "      <td>0.828788</td>\n",
       "      <td>0.824453</td>\n",
       "    </tr>\n",
       "    <tr>\n",
       "      <th>23</th>\n",
       "      <td>23</td>\n",
       "      <td>0.828788</td>\n",
       "      <td>0.824145</td>\n",
       "    </tr>\n",
       "    <tr>\n",
       "      <th>24</th>\n",
       "      <td>24</td>\n",
       "      <td>0.828788</td>\n",
       "      <td>0.824145</td>\n",
       "    </tr>\n",
       "    <tr>\n",
       "      <th>25</th>\n",
       "      <td>25</td>\n",
       "      <td>0.828378</td>\n",
       "      <td>0.824145</td>\n",
       "    </tr>\n",
       "    <tr>\n",
       "      <th>26</th>\n",
       "      <td>26</td>\n",
       "      <td>0.827558</td>\n",
       "      <td>0.824145</td>\n",
       "    </tr>\n",
       "    <tr>\n",
       "      <th>27</th>\n",
       "      <td>27</td>\n",
       "      <td>0.827558</td>\n",
       "      <td>0.824145</td>\n",
       "    </tr>\n",
       "    <tr>\n",
       "      <th>28</th>\n",
       "      <td>28</td>\n",
       "      <td>0.827763</td>\n",
       "      <td>0.824145</td>\n",
       "    </tr>\n",
       "    <tr>\n",
       "      <th>29</th>\n",
       "      <td>29</td>\n",
       "      <td>0.827763</td>\n",
       "      <td>0.824145</td>\n",
       "    </tr>\n",
       "    <tr>\n",
       "      <th>30</th>\n",
       "      <td>30</td>\n",
       "      <td>0.827558</td>\n",
       "      <td>0.824145</td>\n",
       "    </tr>\n",
       "    <tr>\n",
       "      <th>31</th>\n",
       "      <td>31</td>\n",
       "      <td>0.827148</td>\n",
       "      <td>0.824145</td>\n",
       "    </tr>\n",
       "    <tr>\n",
       "      <th>32</th>\n",
       "      <td>32</td>\n",
       "      <td>0.826943</td>\n",
       "      <td>0.824145</td>\n",
       "    </tr>\n",
       "    <tr>\n",
       "      <th>33</th>\n",
       "      <td>33</td>\n",
       "      <td>0.826943</td>\n",
       "      <td>0.824145</td>\n",
       "    </tr>\n",
       "    <tr>\n",
       "      <th>34</th>\n",
       "      <td>34</td>\n",
       "      <td>0.826943</td>\n",
       "      <td>0.824145</td>\n",
       "    </tr>\n",
       "    <tr>\n",
       "      <th>35</th>\n",
       "      <td>35</td>\n",
       "      <td>0.826943</td>\n",
       "      <td>0.824145</td>\n",
       "    </tr>\n",
       "    <tr>\n",
       "      <th>36</th>\n",
       "      <td>36</td>\n",
       "      <td>0.826533</td>\n",
       "      <td>0.824145</td>\n",
       "    </tr>\n",
       "    <tr>\n",
       "      <th>37</th>\n",
       "      <td>37</td>\n",
       "      <td>0.826533</td>\n",
       "      <td>0.824145</td>\n",
       "    </tr>\n",
       "    <tr>\n",
       "      <th>38</th>\n",
       "      <td>38</td>\n",
       "      <td>0.826328</td>\n",
       "      <td>0.824145</td>\n",
       "    </tr>\n",
       "    <tr>\n",
       "      <th>39</th>\n",
       "      <td>39</td>\n",
       "      <td>0.826328</td>\n",
       "      <td>0.823837</td>\n",
       "    </tr>\n",
       "    <tr>\n",
       "      <th>40</th>\n",
       "      <td>40</td>\n",
       "      <td>0.826328</td>\n",
       "      <td>0.824145</td>\n",
       "    </tr>\n",
       "    <tr>\n",
       "      <th>41</th>\n",
       "      <td>41</td>\n",
       "      <td>0.826328</td>\n",
       "      <td>0.823837</td>\n",
       "    </tr>\n",
       "    <tr>\n",
       "      <th>42</th>\n",
       "      <td>42</td>\n",
       "      <td>0.825918</td>\n",
       "      <td>0.823837</td>\n",
       "    </tr>\n",
       "    <tr>\n",
       "      <th>43</th>\n",
       "      <td>43</td>\n",
       "      <td>0.825713</td>\n",
       "      <td>0.823529</td>\n",
       "    </tr>\n",
       "    <tr>\n",
       "      <th>44</th>\n",
       "      <td>44</td>\n",
       "      <td>0.825713</td>\n",
       "      <td>0.823221</td>\n",
       "    </tr>\n",
       "    <tr>\n",
       "      <th>45</th>\n",
       "      <td>45</td>\n",
       "      <td>0.825713</td>\n",
       "      <td>0.823221</td>\n",
       "    </tr>\n",
       "    <tr>\n",
       "      <th>46</th>\n",
       "      <td>46</td>\n",
       "      <td>0.825713</td>\n",
       "      <td>0.823221</td>\n",
       "    </tr>\n",
       "    <tr>\n",
       "      <th>47</th>\n",
       "      <td>47</td>\n",
       "      <td>0.825713</td>\n",
       "      <td>0.822913</td>\n",
       "    </tr>\n",
       "    <tr>\n",
       "      <th>48</th>\n",
       "      <td>48</td>\n",
       "      <td>0.825713</td>\n",
       "      <td>0.822913</td>\n",
       "    </tr>\n",
       "    <tr>\n",
       "      <th>49</th>\n",
       "      <td>49</td>\n",
       "      <td>0.825507</td>\n",
       "      <td>0.822605</td>\n",
       "    </tr>\n",
       "    <tr>\n",
       "      <th>50</th>\n",
       "      <td>50</td>\n",
       "      <td>0.825507</td>\n",
       "      <td>0.822298</td>\n",
       "    </tr>\n",
       "  </tbody>\n",
       "</table>\n",
       "</div>"
      ],
      "text/plain": [
       "    lambda_value  test_accuracy  training_accuracy\n",
       "0              0       0.518762           0.516785\n",
       "1              1       0.831044           0.825069\n",
       "2              2       0.830634           0.824761\n",
       "3              3       0.830634           0.824761\n",
       "4              4       0.830634           0.824761\n",
       "5              5       0.830634           0.824761\n",
       "6              6       0.830634           0.824761\n",
       "7              7       0.830429           0.824453\n",
       "8              8       0.830429           0.824453\n",
       "9              9       0.830223           0.824145\n",
       "10            10       0.830223           0.824145\n",
       "11            11       0.830223           0.824145\n",
       "12            12       0.830223           0.824453\n",
       "13            13       0.830223           0.824453\n",
       "14            14       0.830223           0.824761\n",
       "15            15       0.829813           0.824453\n",
       "16            16       0.829608           0.824453\n",
       "17            17       0.829608           0.824453\n",
       "18            18       0.829608           0.824453\n",
       "19            19       0.829403           0.824453\n",
       "20            20       0.829198           0.824453\n",
       "21            21       0.828788           0.824453\n",
       "22            22       0.828788           0.824453\n",
       "23            23       0.828788           0.824145\n",
       "24            24       0.828788           0.824145\n",
       "25            25       0.828378           0.824145\n",
       "26            26       0.827558           0.824145\n",
       "27            27       0.827558           0.824145\n",
       "28            28       0.827763           0.824145\n",
       "29            29       0.827763           0.824145\n",
       "30            30       0.827558           0.824145\n",
       "31            31       0.827148           0.824145\n",
       "32            32       0.826943           0.824145\n",
       "33            33       0.826943           0.824145\n",
       "34            34       0.826943           0.824145\n",
       "35            35       0.826943           0.824145\n",
       "36            36       0.826533           0.824145\n",
       "37            37       0.826533           0.824145\n",
       "38            38       0.826328           0.824145\n",
       "39            39       0.826328           0.823837\n",
       "40            40       0.826328           0.824145\n",
       "41            41       0.826328           0.823837\n",
       "42            42       0.825918           0.823837\n",
       "43            43       0.825713           0.823529\n",
       "44            44       0.825713           0.823221\n",
       "45            45       0.825713           0.823221\n",
       "46            46       0.825713           0.823221\n",
       "47            47       0.825713           0.822913\n",
       "48            48       0.825713           0.822913\n",
       "49            49       0.825507           0.822605\n",
       "50            50       0.825507           0.822298"
      ]
     },
     "execution_count": 402,
     "metadata": {},
     "output_type": "execute_result"
    }
   ],
   "source": [
    "accuracy_info"
   ]
  },
  {
   "cell_type": "markdown",
   "metadata": {},
   "source": [
    "# P 3.3 Plot of lambda (x-axis) for Laplacian smoothing against training and test set accuracy"
   ]
  },
  {
   "cell_type": "code",
   "execution_count": 403,
   "metadata": {
    "collapsed": false,
    "scrolled": true
   },
   "outputs": [
    {
     "data": {
      "image/png": "[encoded data removed]",
      "text/plain": [
       "<matplotlib.figure.Figure at 0xe0858d14e0>"
      ]
     },
     "metadata": {},
     "output_type": "display_data"
    }
   ],
   "source": [
    "plt.plot(accuracy_info['lambda_value'], accuracy_info['test_accuracy'],color='blue')\n",
    "plt.plot(accuracy_info['lambda_value'],accuracy_info['training_accuracy'],color='red')\n",
    "\n",
    "# Legend\n",
    "red_patch = mpatches.Patch(color='red', label='Training Accuracy')\n",
    "blue_patch = mpatches.Patch(color='blue', label='Test Accuracy')\n",
    "plt.legend(handles=[red_patch, blue_patch])\n",
    "\n",
    "# lables\n",
    "plt.title(\"Lambda vs Accuries\", fontsize=18)\n",
    "plt.xlabel('Lambda', fontsize=15)\n",
    "plt.ylabel('Accuracy', fontsize=15)\n",
    "\n",
    "plt.show()"
   ]
  },
  {
   "cell_type": "markdown",
   "metadata": {},
   "source": [
    "# P 3.4 Decision Tree"
   ]
  },
  {
   "cell_type": "code",
   "execution_count": 404,
   "metadata": {
    "collapsed": true
   },
   "outputs": [],
   "source": [
    "accuracy2_info = pd.DataFrame()\n",
    "col_names = ['SizeThreshold','training_accuracy','test_accuracy']\n",
    "accuracy2_info = pd.DataFrame( columns=col_names)\n",
    "\n",
    "# appending the dataframe is inefficient, so create list of dictionaries and assing \n",
    "#the list of dictionary to dataframe out of the loop\n",
    "accur_list_dict = []"
   ]
  },
  {
   "cell_type": "code",
   "execution_count": 405,
   "metadata": {
    "collapsed": false
   },
   "outputs": [],
   "source": [
    "for i in range(4,68,4):\n",
    "\n",
    "    clf = tree.DecisionTreeClassifier(min_samples_split=i,random_state=99 )\n",
    "    clf = clf.fit(x_train, y_train)\n",
    "    train_predict = clf.predict(x_train)\n",
    "\n",
    "    train_accur = metrics.accuracy_score(y_train, train_predict)\n",
    "    #print(\"Training accuracy:\",metrics.accuracy_score(y_train, train_predict))\n",
    "    test_predict = skgnb.predict(x_test)\n",
    "    #print(\"Testing accuracy:\",metrics.accuracy_score(y_test, test_predict))\n",
    "    test_accur = metrics.accuracy_score(y_test, test_predict)\n",
    "    \n",
    "    # preparing the list\n",
    "    dict_value = [i,test_accur,train_accur]     \n",
    "    \n",
    "    accur_list_dict .append(dict(zip(col_names, dict_value)))\n",
    "    \n",
    "# Assing the list of dictionary to dataframe\n",
    "accuracy2_info = pd.DataFrame(accur_list_dict )"
   ]
  },
  {
   "cell_type": "markdown",
   "metadata": {},
   "source": [
    "# P 3.5 Decision Tree measurements"
   ]
  },
  {
   "cell_type": "code",
   "execution_count": 406,
   "metadata": {
    "collapsed": false
   },
   "outputs": [
    {
     "data": {
      "text/html": [
       "<div>\n",
       "<table border=\"1\" class=\"dataframe\">\n",
       "  <thead>\n",
       "    <tr style=\"text-align: right;\">\n",
       "      <th></th>\n",
       "      <th>SizeThreshold</th>\n",
       "      <th>test_accuracy</th>\n",
       "      <th>training_accuracy</th>\n",
       "    </tr>\n",
       "  </thead>\n",
       "  <tbody>\n",
       "    <tr>\n",
       "      <th>0</th>\n",
       "      <td>4</td>\n",
       "      <td>1.000000</td>\n",
       "      <td>0.822298</td>\n",
       "    </tr>\n",
       "    <tr>\n",
       "      <th>1</th>\n",
       "      <td>8</td>\n",
       "      <td>1.000000</td>\n",
       "      <td>0.822298</td>\n",
       "    </tr>\n",
       "    <tr>\n",
       "      <th>2</th>\n",
       "      <td>12</td>\n",
       "      <td>1.000000</td>\n",
       "      <td>0.822298</td>\n",
       "    </tr>\n",
       "    <tr>\n",
       "      <th>3</th>\n",
       "      <td>16</td>\n",
       "      <td>1.000000</td>\n",
       "      <td>0.822298</td>\n",
       "    </tr>\n",
       "    <tr>\n",
       "      <th>4</th>\n",
       "      <td>20</td>\n",
       "      <td>1.000000</td>\n",
       "      <td>0.822298</td>\n",
       "    </tr>\n",
       "    <tr>\n",
       "      <th>5</th>\n",
       "      <td>24</td>\n",
       "      <td>0.998360</td>\n",
       "      <td>0.822298</td>\n",
       "    </tr>\n",
       "    <tr>\n",
       "      <th>6</th>\n",
       "      <td>28</td>\n",
       "      <td>0.995899</td>\n",
       "      <td>0.822298</td>\n",
       "    </tr>\n",
       "    <tr>\n",
       "      <th>7</th>\n",
       "      <td>32</td>\n",
       "      <td>0.995899</td>\n",
       "      <td>0.822298</td>\n",
       "    </tr>\n",
       "    <tr>\n",
       "      <th>8</th>\n",
       "      <td>36</td>\n",
       "      <td>0.993849</td>\n",
       "      <td>0.822298</td>\n",
       "    </tr>\n",
       "    <tr>\n",
       "      <th>9</th>\n",
       "      <td>40</td>\n",
       "      <td>0.993849</td>\n",
       "      <td>0.822298</td>\n",
       "    </tr>\n",
       "    <tr>\n",
       "      <th>10</th>\n",
       "      <td>44</td>\n",
       "      <td>0.993849</td>\n",
       "      <td>0.822298</td>\n",
       "    </tr>\n",
       "    <tr>\n",
       "      <th>11</th>\n",
       "      <td>48</td>\n",
       "      <td>0.993849</td>\n",
       "      <td>0.822298</td>\n",
       "    </tr>\n",
       "    <tr>\n",
       "      <th>12</th>\n",
       "      <td>52</td>\n",
       "      <td>0.993849</td>\n",
       "      <td>0.822298</td>\n",
       "    </tr>\n",
       "    <tr>\n",
       "      <th>13</th>\n",
       "      <td>56</td>\n",
       "      <td>0.993849</td>\n",
       "      <td>0.822298</td>\n",
       "    </tr>\n",
       "    <tr>\n",
       "      <th>14</th>\n",
       "      <td>60</td>\n",
       "      <td>0.993849</td>\n",
       "      <td>0.822298</td>\n",
       "    </tr>\n",
       "    <tr>\n",
       "      <th>15</th>\n",
       "      <td>64</td>\n",
       "      <td>0.993849</td>\n",
       "      <td>0.822298</td>\n",
       "    </tr>\n",
       "  </tbody>\n",
       "</table>\n",
       "</div>"
      ],
      "text/plain": [
       "    SizeThreshold  test_accuracy  training_accuracy\n",
       "0               4       1.000000           0.822298\n",
       "1               8       1.000000           0.822298\n",
       "2              12       1.000000           0.822298\n",
       "3              16       1.000000           0.822298\n",
       "4              20       1.000000           0.822298\n",
       "5              24       0.998360           0.822298\n",
       "6              28       0.995899           0.822298\n",
       "7              32       0.995899           0.822298\n",
       "8              36       0.993849           0.822298\n",
       "9              40       0.993849           0.822298\n",
       "10             44       0.993849           0.822298\n",
       "11             48       0.993849           0.822298\n",
       "12             52       0.993849           0.822298\n",
       "13             56       0.993849           0.822298\n",
       "14             60       0.993849           0.822298\n",
       "15             64       0.993849           0.822298"
      ]
     },
     "execution_count": 406,
     "metadata": {},
     "output_type": "execute_result"
    }
   ],
   "source": [
    "accuracy2_info"
   ]
  },
  {
   "cell_type": "markdown",
   "metadata": {},
   "source": [
    "# P 3.6 Plot of SizeThreshold (x-axis) against training and test set accuracy"
   ]
  },
  {
   "cell_type": "code",
   "execution_count": 407,
   "metadata": {
    "collapsed": false
   },
   "outputs": [
    {
     "data": {
      "image/png": "[encoded data removed]",
      "text/plain": [
       "<matplotlib.figure.Figure at 0xe28b9b6a20>"
      ]
     },
     "metadata": {},
     "output_type": "display_data"
    }
   ],
   "source": [
    "plt.plot(accuracy2_info['SizeThreshold'], accuracy2_info['test_accuracy'],color='blue')\n",
    "plt.plot(accuracy2_info['SizeThreshold'],accuracy2_info['training_accuracy'],color='red')\n",
    "\n",
    "# Legend\n",
    "red_patch = mpatches.Patch(color='red', label='Training Accuracy')\n",
    "blue_patch = mpatches.Patch(color='blue', label='Test Accuracy')\n",
    "plt.legend(handles=[red_patch, blue_patch])\n",
    "\n",
    "# lables\n",
    "plt.title(\"SizeThreshold vs Accuries\", fontsize=18)\n",
    "plt.xlabel('SizeThreshold', fontsize=15)\n",
    "plt.ylabel('Accuracy', fontsize=15)\n",
    "\n",
    "plt.show()"
   ]
  },
  {
   "cell_type": "markdown",
   "metadata": {},
   "source": [
    "# P 3.7 Comparison of Accuracies"
   ]
  },
  {
   "cell_type": "code",
   "execution_count": 408,
   "metadata": {
    "collapsed": false
   },
   "outputs": [
    {
     "data": {
      "image/png": "[encoded data removed]",
      "text/plain": [
       "<matplotlib.figure.Figure at 0xe089ebeef0>"
      ]
     },
     "metadata": {},
     "output_type": "display_data"
    }
   ],
   "source": [
    "plt.plot(accuracy_info['lambda_value'], accuracy_info['test_accuracy'],color='red')\n",
    "\n",
    "plt.plot(accuracy2_info['SizeThreshold'], accuracy2_info['test_accuracy'],color='blue')\n",
    "\n",
    "# Legend\n",
    "red_patch = mpatches.Patch(color='red', label='NB Accuracy')\n",
    "blue_patch = mpatches.Patch(color='blue', label='DT Accuracy')\n",
    "plt.legend(handles=[red_patch, blue_patch])\n",
    "\n",
    "# lables\n",
    "plt.title(\"Accuracies Comparison of Naive Bayes and Decision Tree\", fontsize=18)\n",
    "plt.xlabel('SizeThreshold/LambdaValue', fontsize=15)\n",
    "plt.ylabel('Accuracy', fontsize=15)\n",
    "\n",
    "plt.show()"
   ]
  },
  {
   "cell_type": "markdown",
   "metadata": {},
   "source": [
    "# P 3.8 Best Values of Lambda and Size thershold"
   ]
  },
  {
   "cell_type": "markdown",
   "metadata": {},
   "source": [
    "-->  Lambda         = 2                           \n",
    "\n",
    "-->  Size Thershold = 24"
   ]
  },
  {
   "cell_type": "markdown",
   "metadata": {},
   "source": [
    "# P 3.9 Decision Tree @ 30"
   ]
  },
  {
   "cell_type": "code",
   "execution_count": 409,
   "metadata": {
    "collapsed": false
   },
   "outputs": [
    {
     "name": "stdout",
     "output_type": "stream",
     "text": [
      "Training accuracy: 0.99589911831\n",
      "Testing accuracy: 0.82229750539\n"
     ]
    }
   ],
   "source": [
    "# @ 30 \n",
    "\n",
    "clf = tree.DecisionTreeClassifier(min_samples_split=30,random_state=99 )\n",
    "clf = clf.fit(x_train, y_train)\n",
    "train_predict = clf.predict(x_train)\n",
    "print(\"Training accuracy:\",metrics.accuracy_score(y_train, train_predict))\n",
    "test_predict = skgnb.predict(x_test)\n",
    "print(\"Testing accuracy:\",metrics.accuracy_score(y_test, test_predict))\n"
   ]
  },
  {
   "cell_type": "markdown",
   "metadata": {},
   "source": [
    "# P 3.10 Decision Tree @ 10"
   ]
  },
  {
   "cell_type": "code",
   "execution_count": 410,
   "metadata": {
    "collapsed": false
   },
   "outputs": [
    {
     "name": "stdout",
     "output_type": "stream",
     "text": [
      "Training accuracy: 1.0\n",
      "Testing accuracy: 0.82229750539\n"
     ]
    }
   ],
   "source": [
    "# @ 10 \n",
    "\n",
    "clf = tree.DecisionTreeClassifier(min_samples_split=10,random_state=99 )\n",
    "clf = clf.fit(x_train, y_train)\n",
    "train_predict = clf.predict(x_train)\n",
    "print(\"Training accuracy:\",metrics.accuracy_score(y_train, train_predict))\n",
    "test_predict = skgnb.predict(x_test)\n",
    "print(\"Testing accuracy:\",metrics.accuracy_score(y_test, test_predict))\n"
   ]
  },
  {
   "cell_type": "markdown",
   "metadata": {},
   "source": [
    "# P4 : MNIST Bayesian"
   ]
  },
  {
   "cell_type": "raw",
   "metadata": {},
   "source": [
    "Load the data both test and train and combine the files."
   ]
  },
  {
   "cell_type": "markdown",
   "metadata": {},
   "source": [
    "# P4.1 : Combined Dataset D0"
   ]
  },
  {
   "cell_type": "code",
   "execution_count": 411,
   "metadata": {
    "collapsed": false
   },
   "outputs": [
    {
     "name": "stderr",
     "output_type": "stream",
     "text": [
      "C:\\Users\\Subba Reddy Yeruva\\Anaconda3\\lib\\site-packages\\IPython\\core\\interactiveshell.py:2723: DtypeWarning: Columns (0) have mixed types. Specify dtype option on import or set low_memory=False.\n",
      "  interactivity=interactivity, compiler=compiler, result=result)\n"
     ]
    }
   ],
   "source": [
    "data_path = \"J:/ISB Business Analytics/Data Mining 2/Home Work Datasets 1/MNIST/\"\n",
    "dtr0 = pd.read_csv(data_path + \"train0.csv\")\n",
    "dtr1 = pd.read_csv(data_path + \"train1.csv\")\n",
    "dtr2 = pd.read_csv(data_path + \"train2.csv\")\n",
    "dtr3 = pd.read_csv(data_path + \"train3.csv\")\n",
    "dtr4 = pd.read_csv(data_path + \"train4.csv\")\n",
    "dtr5 = pd.read_csv(data_path + \"train5.csv\")\n",
    "dtr6 = pd.read_csv(data_path + \"train6.csv\")\n",
    "dtr7 = pd.read_csv(data_path + \"train7.csv\")\n",
    "dtr8 = pd.read_csv(data_path + \"train8.csv\")\n",
    "dtr9 = pd.read_csv(data_path + \"train9.csv\")\n",
    "\n",
    "dtr0['response'] = 0\n",
    "dtr1['response'] = 1\n",
    "dtr2['response'] = 2\n",
    "dtr3['response'] = 3\n",
    "dtr4['response'] = 4\n",
    "dtr5['response'] = 5\n",
    "dtr6['response'] = 6\n",
    "dtr7['response'] = 7\n",
    "dtr8['response'] = 8\n",
    "dtr9['response'] = 9\n",
    "\n",
    "dte0 = pd.read_csv(data_path + \"test0.csv\")\n",
    "dte1 = pd.read_csv(data_path + \"test1.csv\")\n",
    "dte2 = pd.read_csv(data_path + \"test2.csv\")\n",
    "dte3 = pd.read_csv(data_path + \"test3.csv\")\n",
    "dte4 = pd.read_csv(data_path + \"test4.csv\")\n",
    "dte5 = pd.read_csv(data_path + \"test5.csv\")\n",
    "dte6 = pd.read_csv(data_path + \"test6.csv\")\n",
    "dte7 = pd.read_csv(data_path + \"test7.csv\")\n",
    "dte8 = pd.read_csv(data_path + \"test8.csv\")\n",
    "dte9 = pd.read_csv(data_path + \"test9.csv\")\n",
    "\n",
    "dte0['response'] = 0\n",
    "dte1['response'] = 1\n",
    "dte2['response'] = 2\n",
    "dte3['response'] = 3\n",
    "dte4['response'] = 4\n",
    "dte5['response'] = 5\n",
    "dte6['response'] = 6\n",
    "dte7['response'] = 7\n",
    "dte8['response'] = 8\n",
    "dte9['response'] = 9\n",
    "\n",
    "frames = [dtr0, dtr1, dtr2,dtr3,dtr4, dtr5,dtr6, dtr7,dtr8,dtr9]\n",
    "train = pd.concat(frames)\n",
    "\n",
    "frames = [dte0, dte1, dte2,dte3,dte4, dte5,dte6, dte7,dte8,dte9]\n",
    "test = pd.concat(frames)"
   ]
  },
  {
   "cell_type": "markdown",
   "metadata": {},
   "source": [
    "# P4.2 : 9 dimensional PCA projection - D1 Creation"
   ]
  },
  {
   "cell_type": "code",
   "execution_count": 413,
   "metadata": {
    "collapsed": true
   },
   "outputs": [],
   "source": [
    "from sklearn.decomposition import PCA"
   ]
  },
  {
   "cell_type": "code",
   "execution_count": 414,
   "metadata": {
    "collapsed": false
   },
   "outputs": [
    {
     "data": {
      "text/plain": [
       "Index(['Unnamed: 0', 'V1', 'V2', 'V3', 'V4', 'V5', 'V6', 'V7', 'V8', 'V9',\n",
       "       ...\n",
       "       'V776', 'V777', 'V778', 'V779', 'V780', 'V781', 'V782', 'V783', 'V784',\n",
       "       'response'],\n",
       "      dtype='object', length=786)"
      ]
     },
     "execution_count": 414,
     "metadata": {},
     "output_type": "execute_result"
    }
   ],
   "source": [
    "train.columns"
   ]
  },
  {
   "cell_type": "code",
   "execution_count": 415,
   "metadata": {
    "collapsed": false
   },
   "outputs": [],
   "source": [
    "train = train.dropna()\n",
    "\n",
    "train_dummy = train\n",
    "train_x =train_dummy.drop('Unnamed: 0', 1)\n",
    "train_x = train_x.drop('response',1)\n",
    "train_x = train.values[:,:]\n",
    "train_y = train['response']\n",
    "train_y = train_y.values[:]\n",
    "\n",
    "test = test.dropna()\n",
    "test_dummy = test\n",
    "test_x =test_dummy.drop('Unnamed: 0', 1)\n",
    "test_x = test_x.drop('response',1)\n",
    "test_x = test.values[:,:]\n",
    "test_y = test['response']\n",
    "test_y = test_y.values[:]"
   ]
  },
  {
   "cell_type": "code",
   "execution_count": 418,
   "metadata": {
    "collapsed": false
   },
   "outputs": [
    {
     "data": {
      "text/plain": [
       "PCA(copy=True, iterated_power='auto', n_components=9, random_state=None,\n",
       "  svd_solver='auto', tol=0.0, whiten=False)"
      ]
     },
     "execution_count": 418,
     "metadata": {},
     "output_type": "execute_result"
    }
   ],
   "source": [
    "# select number of components to extract\n",
    "pca = PCA(n_components=9)\n",
    "# fit to the training data\n",
    "pca.fit(train_x)\n"
   ]
  },
  {
   "cell_type": "code",
   "execution_count": 419,
   "metadata": {
    "collapsed": false
   },
   "outputs": [
    {
     "name": "stdout",
     "output_type": "stream",
     "text": [
      "(36025, 9)\n",
      "(23975, 9)\n"
     ]
    }
   ],
   "source": [
    "# extract the features\n",
    "D1_train = pca.fit_transform(train_x)\n",
    "print(D1_train.shape)\n",
    "D1_test = pca.fit_transform(test_x)\n",
    "print(D1_test.shape)"
   ]
  },
  {
   "cell_type": "markdown",
   "metadata": {},
   "source": [
    "# P4.3 : 9 dimensional FISHER projection - D2 Creation"
   ]
  },
  {
   "cell_type": "code",
   "execution_count": 421,
   "metadata": {
    "collapsed": false
   },
   "outputs": [
    {
     "name": "stderr",
     "output_type": "stream",
     "text": [
      "C:\\Users\\Subba Reddy Yeruva\\Anaconda3\\lib\\site-packages\\sklearn\\discriminant_analysis.py:389: UserWarning: Variables are collinear.\n",
      "  warnings.warn(\"Variables are collinear.\")\n"
     ]
    },
    {
     "name": "stdout",
     "output_type": "stream",
     "text": [
      "(36025, 9)\n",
      "(23975, 9)\n"
     ]
    }
   ],
   "source": [
    "#Linear discriminant analysis through scikit learn\n",
    "sklearn_lda = LDA(n_components=9)\n",
    "D2_train = sklearn_lda.fit_transform(train_x,train_y)\n",
    "print(D2_train.shape)\n",
    "D2_test = sklearn_lda.fit_transform(test_x,test_y)\n",
    "print(D2_test.shape)"
   ]
  },
  {
   "cell_type": "markdown",
   "metadata": {},
   "source": [
    "# P 4.4 Bayesian Classifier on D1,D2 for Diagonal Covariance matrix"
   ]
  },
  {
   "cell_type": "code",
   "execution_count": 423,
   "metadata": {
    "collapsed": true
   },
   "outputs": [],
   "source": [
    "from sklearn.mixture import GaussianMixture"
   ]
  },
  {
   "cell_type": "code",
   "execution_count": 430,
   "metadata": {
    "collapsed": false
   },
   "outputs": [
    {
     "name": "stdout",
     "output_type": "stream",
     "text": [
      "Training D1 Accuracy: 0.75839000694\n",
      "Test D2 Accuracy: 0.889426485923\n"
     ]
    }
   ],
   "source": [
    "from sklearn.naive_bayes import GaussianNB\n",
    "clf = GaussianNB()\n",
    "clf.fit(D1_train, train_y)\n",
    "train_predict = clf.predict(D1_train)\n",
    "train_accuracy = metrics.accuracy_score(train_y, train_predict)\n",
    "print(\"Training D1 Accuracy:\", train_accuracy)\n",
    "\n",
    "clf.fit(D2_test, test_y)\n",
    "test_predict = clf.predict(D2_test)\n",
    "test_accuracy = metrics.accuracy_score(test_y, test_predict)\n",
    "print(\"Test D2 Accuracy:\", test_accuracy)\n"
   ]
  },
  {
   "cell_type": "markdown",
   "metadata": {},
   "source": [
    "# P 4.5 Bayesian Classifier on D1,D2 for Diagonal Covariance matrix"
   ]
  },
  {
   "cell_type": "code",
   "execution_count": 431,
   "metadata": {
    "collapsed": false
   },
   "outputs": [
    {
     "name": "stdout",
     "output_type": "stream",
     "text": [
      "Train D1 Accuracy: 0.858431644691\n",
      "Test D2 Accuracy: 0.90102189781\n"
     ]
    }
   ],
   "source": [
    "from sklearn.discriminant_analysis import QuadraticDiscriminantAnalysis\n",
    "\n",
    "clf = QuadraticDiscriminantAnalysis()\n",
    "clf.fit(D1_train, train_y)\n",
    "train_predict = clf.predict(D1_train)\n",
    "train_accuracy = metrics.accuracy_score(train_y, train_predict)\n",
    "print(\"Train D1 Accuracy:\", train_accuracy)\n",
    "\n",
    "clf.fit(D2_test, test_y)\n",
    "test_predict = clf.predict(D2_test)\n",
    "test_accuracy = metrics.accuracy_score(test_y, test_predict)\n",
    "print(\"Test D2 Accuracy:\", test_accuracy)"
   ]
  },
  {
   "cell_type": "markdown",
   "metadata": {},
   "source": [
    "# P5 : MNIST – kNN / Parzen window"
   ]
  },
  {
   "cell_type": "code",
   "execution_count": 365,
   "metadata": {
    "collapsed": true
   },
   "outputs": [],
   "source": [
    "from sklearn.preprocessing import MinMaxScaler\n",
    "from sklearn.neighbors import KNeighborsClassifier"
   ]
  },
  {
   "cell_type": "code",
   "execution_count": 366,
   "metadata": {
    "collapsed": true
   },
   "outputs": [],
   "source": [
    "min_max_scaler = MinMaxScaler()\n",
    "train_norm = min_max_scaler.fit_transform(D1_train)\n",
    "test_norm = min_max_scaler.fit_transform(D1_test)"
   ]
  },
  {
   "cell_type": "code",
   "execution_count": 367,
   "metadata": {
    "collapsed": true
   },
   "outputs": [],
   "source": [
    "accuracy3_info = pd.DataFrame()\n",
    "col_names = ['K-Value','training_accuracy','test_accuracy']\n",
    "accuracy3_info = pd.DataFrame( columns=col_names)\n",
    "\n",
    "# appending the dataframe is inefficient, so create list of dictionaries and assing \n",
    "#the list of dictionary to dataframe out of the loop\n",
    "accur_list_dict = []"
   ]
  },
  {
   "cell_type": "code",
   "execution_count": 368,
   "metadata": {
    "collapsed": false
   },
   "outputs": [],
   "source": [
    "for i in range(1,19,2):\n",
    "    knn = KNeighborsClassifier(n_neighbors=i)\n",
    "    knn.fit(train_norm, train_y)\n",
    "    \n",
    "    train_predict = knn.predict(train_norm)\n",
    "\n",
    "    train_accur = metrics.accuracy_score(train_y, train_predict)\n",
    "    \n",
    "    knn = KNeighborsClassifier(n_neighbors=i)\n",
    "    knn.fit(test_norm, test_y)\n",
    "    \n",
    "    test_predict = knn.predict(test_norm)\n",
    "\n",
    "    test_accur = metrics.accuracy_score(test_y, test_predict)\n",
    "    \n",
    "    # preparing the list\n",
    "    dict_value = [i,test_accur,train_accur]     \n",
    "    \n",
    "    accur_list_dict .append(dict(zip(col_names, dict_value)))\n",
    "    \n",
    "# Assing the list of dictionary to dataframe\n",
    "accuracy3_info = pd.DataFrame(accur_list_dict )"
   ]
  },
  {
   "cell_type": "code",
   "execution_count": 369,
   "metadata": {
    "collapsed": false
   },
   "outputs": [
    {
     "data": {
      "text/html": [
       "<div>\n",
       "<table border=\"1\" class=\"dataframe\">\n",
       "  <thead>\n",
       "    <tr style=\"text-align: right;\">\n",
       "      <th></th>\n",
       "      <th>K-Value</th>\n",
       "      <th>test_accuracy</th>\n",
       "      <th>training_accuracy</th>\n",
       "    </tr>\n",
       "  </thead>\n",
       "  <tbody>\n",
       "    <tr>\n",
       "      <th>0</th>\n",
       "      <td>1</td>\n",
       "      <td>1.000000</td>\n",
       "      <td>1.000000</td>\n",
       "    </tr>\n",
       "    <tr>\n",
       "      <th>1</th>\n",
       "      <td>3</td>\n",
       "      <td>0.933185</td>\n",
       "      <td>0.930594</td>\n",
       "    </tr>\n",
       "    <tr>\n",
       "      <th>2</th>\n",
       "      <td>5</td>\n",
       "      <td>0.920167</td>\n",
       "      <td>0.918248</td>\n",
       "    </tr>\n",
       "    <tr>\n",
       "      <th>3</th>\n",
       "      <td>7</td>\n",
       "      <td>0.912505</td>\n",
       "      <td>0.910031</td>\n",
       "    </tr>\n",
       "    <tr>\n",
       "      <th>4</th>\n",
       "      <td>9</td>\n",
       "      <td>0.908452</td>\n",
       "      <td>0.905693</td>\n",
       "    </tr>\n",
       "    <tr>\n",
       "      <th>5</th>\n",
       "      <td>11</td>\n",
       "      <td>0.904205</td>\n",
       "      <td>0.903399</td>\n",
       "    </tr>\n",
       "    <tr>\n",
       "      <th>6</th>\n",
       "      <td>13</td>\n",
       "      <td>0.900958</td>\n",
       "      <td>0.899270</td>\n",
       "    </tr>\n",
       "    <tr>\n",
       "      <th>7</th>\n",
       "      <td>15</td>\n",
       "      <td>0.898348</td>\n",
       "      <td>0.896976</td>\n",
       "    </tr>\n",
       "    <tr>\n",
       "      <th>8</th>\n",
       "      <td>17</td>\n",
       "      <td>0.896239</td>\n",
       "      <td>0.895016</td>\n",
       "    </tr>\n",
       "  </tbody>\n",
       "</table>\n",
       "</div>"
      ],
      "text/plain": [
       "   K-Value  test_accuracy  training_accuracy\n",
       "0        1       1.000000           1.000000\n",
       "1        3       0.933185           0.930594\n",
       "2        5       0.920167           0.918248\n",
       "3        7       0.912505           0.910031\n",
       "4        9       0.908452           0.905693\n",
       "5       11       0.904205           0.903399\n",
       "6       13       0.900958           0.899270\n",
       "7       15       0.898348           0.896976\n",
       "8       17       0.896239           0.895016"
      ]
     },
     "execution_count": 369,
     "metadata": {},
     "output_type": "execute_result"
    }
   ],
   "source": [
    "accuracy3_info"
   ]
  },
  {
   "cell_type": "code",
   "execution_count": 370,
   "metadata": {
    "collapsed": true
   },
   "outputs": [],
   "source": [
    "train_norm = min_max_scaler.fit_transform(D2_train)\n",
    "test_norm = min_max_scaler.fit_transform(D2_test)\n",
    "\n",
    "accuracy4_info = pd.DataFrame()\n",
    "col_names = ['K-Value','training_accuracy','test_accuracy']\n",
    "accuracy4_info = pd.DataFrame( columns=col_names)\n",
    "\n",
    "# appending the dataframe is inefficient, so create list of dictionaries and assing \n",
    "#the list of dictionary to dataframe out of the loop\n",
    "accur_list_dict = []\n",
    "\n",
    "for i in range(1,19,2):\n",
    "    knn = KNeighborsClassifier(n_neighbors=i)\n",
    "    knn.fit(train_norm, train_y)\n",
    "    \n",
    "    train_predict = knn.predict(train_norm)\n",
    "\n",
    "    train_accur = metrics.accuracy_score(train_y, train_predict)\n",
    "    \n",
    "    knn = KNeighborsClassifier(n_neighbors=i)\n",
    "    knn.fit(test_norm, test_y)\n",
    "    \n",
    "    test_predict = knn.predict(test_norm)\n",
    "\n",
    "    test_accur = metrics.accuracy_score(test_y, test_predict)\n",
    "    \n",
    "    # preparing the list\n",
    "    dict_value = [i,test_accur,train_accur]     \n",
    "    \n",
    "    accur_list_dict .append(dict(zip(col_names, dict_value)))\n",
    "    \n",
    "# Assing the list of dictionary to dataframe\n",
    "accuracy4_info = pd.DataFrame(accur_list_dict )"
   ]
  },
  {
   "cell_type": "code",
   "execution_count": 371,
   "metadata": {
    "collapsed": false
   },
   "outputs": [
    {
     "data": {
      "text/html": [
       "<div>\n",
       "<table border=\"1\" class=\"dataframe\">\n",
       "  <thead>\n",
       "    <tr style=\"text-align: right;\">\n",
       "      <th></th>\n",
       "      <th>K-Value</th>\n",
       "      <th>test_accuracy</th>\n",
       "      <th>training_accuracy</th>\n",
       "    </tr>\n",
       "  </thead>\n",
       "  <tbody>\n",
       "    <tr>\n",
       "      <th>0</th>\n",
       "      <td>1</td>\n",
       "      <td>1.000000</td>\n",
       "      <td>1.000000</td>\n",
       "    </tr>\n",
       "    <tr>\n",
       "      <th>1</th>\n",
       "      <td>3</td>\n",
       "      <td>0.947814</td>\n",
       "      <td>0.948154</td>\n",
       "    </tr>\n",
       "    <tr>\n",
       "      <th>2</th>\n",
       "      <td>5</td>\n",
       "      <td>0.937682</td>\n",
       "      <td>0.939145</td>\n",
       "    </tr>\n",
       "    <tr>\n",
       "      <th>3</th>\n",
       "      <td>7</td>\n",
       "      <td>0.933574</td>\n",
       "      <td>0.934849</td>\n",
       "    </tr>\n",
       "    <tr>\n",
       "      <th>4</th>\n",
       "      <td>9</td>\n",
       "      <td>0.931242</td>\n",
       "      <td>0.931595</td>\n",
       "    </tr>\n",
       "    <tr>\n",
       "      <th>5</th>\n",
       "      <td>11</td>\n",
       "      <td>0.928300</td>\n",
       "      <td>0.929009</td>\n",
       "    </tr>\n",
       "    <tr>\n",
       "      <th>6</th>\n",
       "      <td>13</td>\n",
       "      <td>0.925996</td>\n",
       "      <td>0.926715</td>\n",
       "    </tr>\n",
       "    <tr>\n",
       "      <th>7</th>\n",
       "      <td>15</td>\n",
       "      <td>0.924747</td>\n",
       "      <td>0.925047</td>\n",
       "    </tr>\n",
       "    <tr>\n",
       "      <th>8</th>\n",
       "      <td>17</td>\n",
       "      <td>0.923109</td>\n",
       "      <td>0.923712</td>\n",
       "    </tr>\n",
       "  </tbody>\n",
       "</table>\n",
       "</div>"
      ],
      "text/plain": [
       "   K-Value  test_accuracy  training_accuracy\n",
       "0        1       1.000000           1.000000\n",
       "1        3       0.947814           0.948154\n",
       "2        5       0.937682           0.939145\n",
       "3        7       0.933574           0.934849\n",
       "4        9       0.931242           0.931595\n",
       "5       11       0.928300           0.929009\n",
       "6       13       0.925996           0.926715\n",
       "7       15       0.924747           0.925047\n",
       "8       17       0.923109           0.923712"
      ]
     },
     "execution_count": 371,
     "metadata": {},
     "output_type": "execute_result"
    }
   ],
   "source": [
    "accuracy4_info"
   ]
  },
  {
   "cell_type": "markdown",
   "metadata": {},
   "source": [
    "# P6 : News group Text Classifier"
   ]
  },
  {
   "cell_type": "code",
   "execution_count": 432,
   "metadata": {
    "collapsed": false
   },
   "outputs": [
    {
     "name": "stdout",
     "output_type": "stream",
     "text": [
      "Populating the interactive namespace from numpy and matplotlib\n"
     ]
    },
    {
     "name": "stderr",
     "output_type": "stream",
     "text": [
      "WARNING: pylab import has clobbered these variables: ['copy', 'clf', 'e', 'entropy', 'test']\n",
      "`%matplotlib` prevents importing * from pylab and numpy\n"
     ]
    }
   ],
   "source": [
    "%pylab inline"
   ]
  },
  {
   "cell_type": "code",
   "execution_count": null,
   "metadata": {
    "collapsed": false
   },
   "outputs": [],
   "source": [
    "\n",
    "%load_ext rpy2.ipython"
   ]
  },
  {
   "cell_type": "code",
   "execution_count": null,
   "metadata": {
    "collapsed": true
   },
   "outputs": [],
   "source": [
    "%%R\n",
    "library('e1071');\n",
    "install.packages(\"NLP\")\n",
    "install.packages(\"devtools\")\n",
    "install.packages(\"plyr\")\n",
    "install.packages(\"ggplot2\")\n",
    "install.packages(\"wordcloud\")\n",
    "install.packages(\"RColorBrewer\")\n",
    "install.packages(\"tm\")\n",
    "install.packages(\"SnowballC\")\n",
    "library(\"tm\")\n",
    "\n",
    "\n",
    "alt.atheismtrain<-data.frame(txt=character(800))\n",
    "alt.atheismtrain$txt<-as.character(alt.atheismtrain$txt)\n",
    "setwd(\"C:/ISB CBA/20_newsgroups/alt.atheism\")\n",
    "temp = list.files()\n",
    "\n",
    "for (i in 1:800) {\n",
    "  assign(temp[i], alt.atheismtrain$txt[i]<-paste(readLines(temp[i]), collapse = \" \" ))\n",
    "}\n",
    "\n",
    "\n",
    "comp.graphicstrain<-data.frame(txt=character(800))\n",
    "comp.graphicstrain$txt<-as.character(comp.graphicstrain$txt)\n",
    "setwd(\"C:/ISB CBA/20_newsgroups/comp.graphics\")\n",
    "temp = list.files()\n",
    "\n",
    "for (i in 1:800) {\n",
    "  assign(temp[i], comp.graphicstrain$txt[i]<-paste(readLines(temp[i]), collapse = \" \" ))\n",
    "}\n",
    "\n",
    "\n",
    "comp.os.mswindows.misctrain<-data.frame(txt=character(800))\n",
    "comp.os.mswindows.misctrain$txt<-as.character(comp.os.mswindows.misctrain$txt)\n",
    "setwd(\"C:/ISB CBA/20_newsgroups/comp.os.ms-windows.misc\")\n",
    "temp = list.files()\n",
    "\n",
    "for (i in 1:800) {\n",
    "  assign(temp[i], comp.os.mswindows.misctrain$txt[i]<-paste(readLines(temp[i]), collapse = \" \" ))\n",
    "}\n",
    "\n",
    "\n",
    "comp.sys.ibm.pc.hardwaretrain<-data.frame(txt=character(800))\n",
    "comp.sys.ibm.pc.hardwaretrain$txt<-as.character(comp.sys.ibm.pc.hardwaretrain$txt)\n",
    "setwd(\"C:/ISB CBA/20_newsgroups/comp.sys.ibm.pc.hardware.misc\")\n",
    "temp = list.files()\n",
    "\n",
    "for (i in 1:800) {\n",
    "  assign(temp[i], comp.sys.ibm.pc.hardwaretrain$txt[i]<-paste(readLines(temp[i]), collapse = \" \" ))\n",
    "}\n",
    "\n",
    "\n",
    "\n",
    "comp.sys.mac.hardwaretrain<-data.frame(txt=character(800))\n",
    "comp.sys.mac.hardwaretrain$txt<-as.character(comp.sys.mac.hardwaretrain$txt)\n",
    "setwd(\"C:/ISB CBA/20_newsgroups/comp.sys.mac.hardware.misc\")\n",
    "temp = list.files()\n",
    "\n",
    "for (i in 1:800) {\n",
    "  assign(temp[i], comp.sys.mac.hardwaretrain$txt[i]<-paste(readLines(temp[i]), collapse = \" \" ))\n",
    "}\n",
    "\n",
    "\n",
    "\n",
    "comp.windows.xtrain<-data.frame(txt=character(800))\n",
    "comp.windows.xtrain$txt<-as.character(comp.windows.xtrain$txt)\n",
    "setwd(\"C:/ISB CBA/20_newsgroups/comp.windows.x\")\n",
    "temp = list.files()\n",
    "\n",
    "for (i in 1:800) {\n",
    "  assign(temp[i], comp.windows.xtrain$txt[i]<-paste(readLines(temp[i]), collapse = \" \" ))\n",
    "}\n",
    "\n",
    "\n",
    "misc.forsaletrain<-data.frame(txt=character(800))\n",
    "misc.forsaletrain$txt<-as.character(misc.forsaletrain$txt)\n",
    "setwd(\"C:/ISB CBA/20_newsgroups/misc.forsale\")\n",
    "temp = list.files()\n",
    "\n",
    "for (i in 1:800) {\n",
    "  assign(temp[i], misc.forsaletrain$txt[i]<-paste(readLines(temp[i]), collapse = \" \" ))\n",
    "}\n",
    "\n",
    "\n",
    "rec.autostrain<-data.frame(txt=character(800))\n",
    "rec.autostrain$txt<-as.character(rec.autostrain$txt)\n",
    "setwd(\"C:/ISB CBA/20_newsgroups/rec.autos\")\n",
    "temp = list.files()\n",
    "\n",
    "for (i in 1:800) {\n",
    "  assign(temp[i], rec.autostrain$txt[i]<-paste(readLines(temp[i]), collapse = \" \" ))\n",
    "}\n",
    "\n",
    "\n",
    "rec.motorcyclestrain<-data.frame(txt=character(800))\n",
    "rec.motorcyclestrain$txt<-as.character(rec.motorcyclestrain$txt)\n",
    "setwd(\"C:/ISB CBA/20_newsgroups/rec.motorcycles\")\n",
    "temp = list.files()\n",
    "\n",
    "for (i in 1:800) {\n",
    "  assign(temp[i], rec.motorcyclestrain$txt[i]<-paste(readLines(temp[i]), collapse = \" \" ))\n",
    "}\n",
    "\n",
    "\n",
    "rec.sport.baseballtrain<-data.frame(txt=character(800))\n",
    "rec.sport.baseballtrain$txt<-as.character(rec.sport.baseballtrain$txt)\n",
    "setwd(\"C:/ISB CBA/20_newsgroups/rec.sport.baseball\")\n",
    "temp = list.files()\n",
    "\n",
    "for (i in 1:800) {\n",
    "  assign(temp[i], rec.sport.baseballtrain$txt[i]<-paste(readLines(temp[i]), collapse = \" \" ))\n",
    "}\n",
    "\n",
    "\n",
    "rec.sport.hockeytrain<-data.frame(txt=character(800))\n",
    "rec.sport.hockeytrain$txt<-as.character(rec.sport.hockeytrain$txt)\n",
    "setwd(\"C:/ISB CBA/20_newsgroups/rec.sport.hockey\")\n",
    "temp = list.files()\n",
    "\n",
    "for (i in 1:800) {\n",
    "  assign(temp[i], rec.sport.hockeytrain$txt[i]<-paste(readLines(temp[i]), collapse = \" \" ))\n",
    "}\n",
    "\n",
    "\n",
    "sci.crypttrain<-data.frame(txt=character(800))\n",
    "sci.crypttrain$txt<-as.character(sci.crypttrain$txt)\n",
    "setwd(\"C:/ISB CBA/20_newsgroups/sci.crypt\")\n",
    "temp = list.files()\n",
    "\n",
    "for (i in 1:800) {\n",
    "  assign(temp[i], sci.crypttrain$txt[i]<-paste(readLines(temp[i]), collapse = \" \" ))\n",
    "}\n",
    "\n",
    "\n",
    "sci.electronicstrain<-data.frame(txt=character(800))\n",
    "sci.electronicstrain$txt<-as.character(sci.crypttrain$txt)\n",
    "setwd(\"C:/ISB CBA/sci.electronics/sci.crypt\")\n",
    "temp = list.files()\n",
    "\n",
    "for (i in 1:800) {\n",
    "  assign(temp[i], sci.electronicstrain$txt[i]<-paste(readLines(temp[i]), collapse = \" \" ))\n",
    "}\n",
    "\n",
    "\n",
    "\n",
    "sci.medtrain<-data.frame(txt=character(800))\n",
    "sci.medtrain$txt<-as.character(sci.medtrain$txt)\n",
    "setwd(\"C:/ISB CBA/sci.med/sci.crypt\")\n",
    "temp = list.files()\n",
    "\n",
    "for (i in 1:800) {\n",
    "  assign(temp[i], sci.medtrain$txt[i]<-paste(readLines(temp[i]), collapse = \" \" ))\n",
    "}\n",
    "\n",
    "\n",
    "sci.spacetrain<-data.frame(txt=character(800))\n",
    "sci.spacetrain$txt<-as.character(sci.spacetrain$txt)\n",
    "setwd(\"C:/ISB CBA/sci.med/sci.space\")\n",
    "temp = list.files()\n",
    "\n",
    "for (i in 1:800) {\n",
    "  assign(temp[i], sci.spacetrain$txt[i]<-paste(readLines(temp[i]), collapse = \" \" ))\n",
    "}\n",
    "\n",
    "\n",
    "\n",
    "soc.religion.christiantrain<-data.frame(txt=character(800))\n",
    "soc.religion.christiantrain$txt<-as.character(soc.religion.christiantrain$txt)\n",
    "setwd(\"C:/ISB CBA/sci.med/soc.religion.christian\")\n",
    "temp = list.files()\n",
    "\n",
    "for (i in 1:800) {\n",
    "  assign(temp[i], soc.religion.christiantrain$txt[i]<-paste(readLines(temp[i]), collapse = \" \" ))\n",
    "}\n",
    "\n",
    "\n",
    "talk.politics.gunstrain<-data.frame(txt=character(800))\n",
    "talk.politics.gunstrain$txt<-as.character(talk.politics.gunstrain$txt)\n",
    "setwd(\"C:/ISB CBA/sci.med/talk.politics.guns\")\n",
    "temp = list.files()\n",
    "\n",
    "for (i in 1:800) {\n",
    "  assign(temp[i], talk.politics.gunstrain$txt[i]<-paste(readLines(temp[i]), collapse = \" \" ))\n",
    "}\n",
    "\n",
    "\n",
    "talk.politics.mideasttrain<-data.frame(txt=character(800))\n",
    "talk.politics.mideasttrain$txt<-as.character(talk.politics.mideasttrain$txt)\n",
    "setwd(\"C:/ISB CBA/sci.med/talk.politics.mideast\")\n",
    "temp = list.files()\n",
    "\n",
    "for (i in 1:800) {\n",
    "  assign(temp[i], talk.politics.mideasttrain$txt[i]<-paste(readLines(temp[i]), collapse = \" \" ))\n",
    "}\n",
    "\n",
    "\n",
    "talk.politics.misctrain<-data.frame(txt=character(800))\n",
    "talk.politics.misctrain$txt<-as.character(talk.politics.misctrain$txt)\n",
    "setwd(\"C:/ISB CBA/sci.med/talk.politics.misc\")\n",
    "temp = list.files()\n",
    "\n",
    "for (i in 1:800) {\n",
    "  assign(temp[i], talk.politics.misctrain$txt[i]<-paste(readLines(temp[i]), collapse = \" \" ))\n",
    "}\n",
    "\n",
    "\n",
    "talk.religion.misctrain<-data.frame(txt=character(800))\n",
    "talk.religion.misctrain$txt<-as.character(talk.religion.misctrain$txt)\n",
    "setwd(\"C:/ISB CBA/sci.med/talk.religion.misc\")\n",
    "temp = list.files()\n",
    "\n",
    "for (i in 1:800) {\n",
    "  assign(temp[i], talk.religion.misctrain$txt[i]<-paste(readLines(temp[i]), collapse = \" \" ))\n",
    "}\n",
    "\n",
    "\n",
    "alt.atheismtest<-data.frame(txt=character(200))\n",
    "alt.atheismtest$txt<-as.character(alt.atheismtest$txt)\n",
    "setwd(\"C:/ISB CBA/20_newsgroups/alt.atheism\")\n",
    "temp = list.files()\n",
    "\n",
    "for (i in 1:200) {\n",
    "  assign(temp[800+i], alt.atheismtest$txt[i]<-paste(readLines(temp[800+i]), collapse = \" \" ))\n",
    "}\n",
    "\n",
    "\n",
    "comp.graphicstest<-data.frame(txt=character(200))\n",
    "comp.graphicstest$txt<-as.character(comp.graphicstest$txt)\n",
    "setwd(\"C:/ISB CBA/20_newsgroups/comp.graphics\")\n",
    "temp = list.files()\n",
    "\n",
    "for (i in 1:200) {\n",
    "  assign(temp[800+i], comp.graphicstest$txt[i]<-paste(readLines(temp[800+i]), collapse = \" \" ))\n",
    "}\n",
    "\n",
    "\n",
    "comp.os.mswindows.misctest<-data.frame(txt=character(200))\n",
    "comp.os.mswindows.misctest$txt<-as.character(comp.os.mswindows.misctest$txt)\n",
    "setwd(\"C:/ISB CBA/20_newsgroups/comp.os.ms-windows.misc\")\n",
    "temp = list.files()\n",
    "\n",
    "for (i in 1:200) {\n",
    "  assign(temp[800+i], comp.os.mswindows.misctest$txt[i]<-paste(readLines(temp[800+i]), collapse = \" \" ))\n",
    "}\n",
    "\n",
    "\n",
    "comp.sys.ibm.pc.hardwaretest<-data.frame(txt=character(200))\n",
    "comp.sys.ibm.pc.hardwaretest$txt<-as.character(comp.sys.ibm.pc.hardwaretest$txt)\n",
    "setwd(\"C:/ISB CBA/20_newsgroups/comp.sys.ibm.pc.hardware.misc\")\n",
    "temp = list.files()\n",
    "\n",
    "for (i in 1:200) {\n",
    "  assign(temp[800+i], comp.sys.ibm.pc.hardwaretest$txt[i]<-paste(readLines(temp[800+i]), collapse = \" \" ))\n",
    "}\n",
    "\n",
    "\n",
    "\n",
    "comp.sys.mac.hardwaretest<-data.frame(txt=character(200))\n",
    "comp.sys.mac.hardwaretest$txt<-as.character(comp.sys.mac.hardwaretest$txt)\n",
    "setwd(\"C:/ISB CBA/20_newsgroups/comp.sys.mac.hardware.misc\")\n",
    "temp = list.files()\n",
    "\n",
    "for (i in 1:200) {\n",
    "  assign(temp[800+i], comp.sys.mac.hardwaretest$txt[i]<-paste(readLines(temp[800+i]), collapse = \" \" ))\n",
    "}\n",
    "\n",
    "\n",
    "\n",
    "comp.windows.xtest<-data.frame(txt=character(200))\n",
    "comp.windows.xtest$txt<-as.character(comp.windows.xtest$txt)\n",
    "setwd(\"C:/ISB CBA/20_newsgroups/comp.windows.x\")\n",
    "temp = list.files()\n",
    "\n",
    "for (i in 1:200) {\n",
    "  assign(temp[800+i], comp.windows.xtest$txt[i]<-paste(readLines(temp[800+i]), collapse = \" \" ))\n",
    "}\n",
    "\n",
    "\n",
    "misc.forsaletest<-data.frame(txt=character(200))\n",
    "misc.forsaletest$txt<-as.character(misc.forsaletest$txt)\n",
    "setwd(\"C:/ISB CBA/20_newsgroups/misc.forsale\")\n",
    "temp = list.files()\n",
    "\n",
    "for (i in 1:200) {\n",
    "  assign(temp[800+i], misc.forsaletest$txt[i]<-paste(readLines(temp[800+i]), collapse = \" \" ))\n",
    "}\n",
    "\n",
    "\n",
    "rec.autostest<-data.frame(txt=character(200))\n",
    "rec.autostest$txt<-as.character(rec.autostest$txt)\n",
    "setwd(\"C:/ISB CBA/20_newsgroups/rec.autos\")\n",
    "temp = list.files()\n",
    "\n",
    "for (i in 1:200) {\n",
    "  assign(temp[800+i], rec.autostest$txt[i]<-paste(readLines(temp[800+i]), collapse = \" \" ))\n",
    "}\n",
    "\n",
    "\n",
    "rec.motorcyclestest<-data.frame(txt=character(200))\n",
    "rec.motorcyclestest$txt<-as.character(rec.motorcyclestest$txt)\n",
    "setwd(\"C:/ISB CBA/20_newsgroups/rec.motorcycles\")\n",
    "temp = list.files()\n",
    "\n",
    "for (i in 1:200) {\n",
    "  assign(temp[800+i], rec.motorcyclestest$txt[i]<-paste(readLines(temp[800+i]), collapse = \" \" ))\n",
    "}\n",
    "\n",
    "\n",
    "rec.sport.baseballtest<-data.frame(txt=character(200))\n",
    "rec.sport.baseballtest$txt<-as.character(rec.sport.baseballtest$txt)\n",
    "setwd(\"C:/ISB CBA/20_newsgroups/rec.sport.baseball\")\n",
    "temp = list.files()\n",
    "\n",
    "for (i in 1:200) {\n",
    "  assign(temp[800+i], rec.sport.baseballtest$txt[i]<-paste(readLines(temp[800+i]), collapse = \" \" ))\n",
    "}\n",
    "\n",
    "\n",
    "rec.sport.hockeytest<-data.frame(txt=character(200))\n",
    "rec.sport.hockeytest$txt<-as.character(rec.sport.hockeytest$txt)\n",
    "setwd(\"C:/ISB CBA/20_newsgroups/rec.sport.hockey\")\n",
    "temp = list.files()\n",
    "\n",
    "for (i in 1:200) {\n",
    "  assign(temp[800+i], rec.sport.hockeytest$txt[i]<-paste(readLines(temp[800+i]), collapse = \" \" ))\n",
    "}\n",
    "\n",
    "\n",
    "sci.crypttest<-data.frame(txt=character(200))\n",
    "sci.crypttest$txt<-as.character(sci.crypttest$txt)\n",
    "setwd(\"C:/ISB CBA/20_newsgroups/sci.crypt\")\n",
    "temp = list.files()\n",
    "\n",
    "for (i in 1:200) {\n",
    "  assign(temp[800+i], sci.crypttest$txt[i]<-paste(readLines(temp[800+i]), collapse = \" \" ))\n",
    "}\n",
    "\n",
    "\n",
    "sci.electronicstest<-data.frame(txt=character(200))\n",
    "sci.electronicstest$txt<-as.character(sci.crypttest$txt)\n",
    "setwd(\"C:/ISB CBA/sci.electronics/sci.crypt\")\n",
    "temp = list.files()\n",
    "\n",
    "for (i in 1:200) {\n",
    "  assign(temp[800+i], sci.electronicstest$txt[i]<-paste(readLines(temp[800+i]), collapse = \" \" ))\n",
    "}\n",
    "\n",
    "\n",
    "\n",
    "sci.medtest<-data.frame(txt=character(200))\n",
    "sci.medtest$txt<-as.character(sci.medtest$txt)\n",
    "setwd(\"C:/ISB CBA/sci.med/sci.crypt\")\n",
    "temp = list.files()\n",
    "\n",
    "for (i in 1:200) {\n",
    "  assign(temp[800+i], sci.medtest$txt[i]<-paste(readLines(temp[800+i]), collapse = \" \" ))\n",
    "}\n",
    "\n",
    "\n",
    "sci.spacetest<-data.frame(txt=character(200))\n",
    "sci.spacetest$txt<-as.character(sci.spacetest$txt)\n",
    "setwd(\"C:/ISB CBA/sci.med/sci.space\")\n",
    "temp = list.files()\n",
    "\n",
    "for (i in 1:200) {\n",
    "  assign(temp[800+i], sci.spacetest$txt[i]<-paste(readLines(temp[800+i]), collapse = \" \" ))\n",
    "}\n",
    "\n",
    "\n",
    "\n",
    "soc.religion.christiantest<-data.frame(txt=character(200))\n",
    "soc.religion.christiantest$txt<-as.character(soc.religion.christiantest$txt)\n",
    "setwd(\"C:/ISB CBA/sci.med/soc.religion.christian\")\n",
    "temp = list.files()\n",
    "\n",
    "for (i in 1:200) {\n",
    "  assign(temp[800+i], soc.religion.christiantest$txt[i]<-paste(readLines(temp[800+i]), collapse = \" \" ))\n",
    "}\n",
    "\n",
    "\n",
    "talk.politics.gunstest<-data.frame(txt=character(200))\n",
    "talk.politics.gunstest$txt<-as.character(talk.politics.gunstest$txt)\n",
    "setwd(\"C:/ISB CBA/sci.med/talk.politics.guns\")\n",
    "temp = list.files()\n",
    "\n",
    "for (i in 1:200) {\n",
    "  assign(temp[800+i], talk.politics.gunstest$txt[i]<-paste(readLines(temp[800+i]), collapse = \" \" ))\n",
    "}\n",
    "\n",
    "\n",
    "talk.politics.mideasttest<-data.frame(txt=character(200))\n",
    "talk.politics.mideasttest$txt<-as.character(talk.politics.mideasttest$txt)\n",
    "setwd(\"C:/ISB CBA/sci.med/talk.politics.mideast\")\n",
    "temp = list.files()\n",
    "\n",
    "for (i in 1:200) {\n",
    "  assign(temp[800+i], talk.politics.mideasttest$txt[i]<-paste(readLines(temp[800+i]), collapse = \" \" ))\n",
    "}\n",
    "\n",
    "\n",
    "talk.politics.misctest<-data.frame(txt=character(200))\n",
    "talk.politics.misctest$txt<-as.character(talk.politics.misctest$txt)\n",
    "setwd(\"C:/ISB CBA/sci.med/talk.politics.misc\")\n",
    "temp = list.files()\n",
    "\n",
    "for (i in 1:200) {\n",
    "  assign(temp[800+i], talk.politics.misctest$txt[i]<-paste(readLines(temp[800+i]), collapse = \" \" ))\n",
    "}\n",
    "\n",
    "\n",
    "talk.religion.misctest<-data.frame(txt=character(200))\n",
    "talk.religion.misctest$txt<-as.character(talk.religion.misctest$txt)\n",
    "setwd(\"C:/ISB CBA/sci.med/talk.religion.misc\")\n",
    "temp = list.files()\n",
    "\n",
    "for (i in 1:200) {\n",
    "  assign(temp[800+i], talk.religion.misctest$txt[i]<-paste(readLines(temp[800+i]), collapse = \" \" ))\n",
    "}\n",
    "\n",
    "\n",
    "alt.atheismtrain = gsub(\"[[:punct:]]\", \"\", alt.atheismtrain)\n",
    "alt.atheismtrain = gsub(\"[[:digit:]]\", \"\", alt.atheismtrain)\n",
    "alt.atheismtrain = gsub(\"http\\\\w+\", \"\", alt.atheismtrain)\n",
    "alt.atheismtrain = gsub(\"[ \\t]{2,}\", \"\", alt.atheismtrain)\n",
    "alt.atheismtrain = gsub(\"^\\\\s+|\\\\s+$\", \"\", alt.atheismtrain)\n",
    "\n",
    "\n",
    "comp.graphicstrain = gsub(\"[[:punct:]]\", \"\", comp.graphicstrain)\n",
    "comp.graphicstrain = gsub(\"[[:digit:]]\", \"\", comp.graphicstrain)\n",
    "comp.graphicstrain = gsub(\"http\\\\w+\", \"\", comp.graphicstrain)\n",
    "comp.graphicstrain = gsub(\"[ \\t]{2,}\", \"\", comp.graphicstrain)\n",
    "comp.graphicstrain = gsub(\"^\\\\s+|\\\\s+$\", \"\", comp.graphicstrain)\n",
    "\n",
    "\n",
    "comp.os.mswindows.misctrain = gsub(\"[[:punct:]]\", \"\", comp.os.mswindows.misctrain)\n",
    "comp.os.mswindows.misctrain = gsub(\"[[:digit:]]\", \"\", comp.os.mswindows.misctrain)\n",
    "comp.os.mswindows.misctrain = gsub(\"http\\\\w+\", \"\", comp.os.mswindows.misctrain)\n",
    "comp.os.mswindows.misctrain = gsub(\"[ \\t]{2,}\", \"\", comp.os.mswindows.misctrain)\n",
    "comp.os.mswindows.misctrain = gsub(\"^\\\\s+|\\\\s+$\", \"\", comp.os.mswindows.misctrain)\n",
    "\n",
    "\n",
    "comp.sys.ibm.pc.hardwaretrain = gsub(\"[[:punct:]]\", \"\", comp.sys.ibm.pc.hardwaretrain)\n",
    "comp.sys.ibm.pc.hardwaretrain = gsub(\"[[:digit:]]\", \"\", comp.sys.ibm.pc.hardwaretrain)\n",
    "comp.sys.ibm.pc.hardwaretrain = gsub(\"http\\\\w+\", \"\", comp.sys.ibm.pc.hardwaretrain)\n",
    "comp.sys.ibm.pc.hardwaretrain = gsub(\"[ \\t]{2,}\", \"\", comp.sys.ibm.pc.hardwaretrain)\n",
    "comp.sys.ibm.pc.hardwaretrain = gsub(\"^\\\\s+|\\\\s+$\", \"\", comp.sys.ibm.pc.hardwaretrain)\n",
    "\n",
    "\n",
    "comp.sys.mac.hardwaretrain = gsub(\"[[:punct:]]\", \"\", comp.sys.mac.hardwaretrain)\n",
    "comp.sys.mac.hardwaretrain = gsub(\"[[:digit:]]\", \"\", comp.sys.mac.hardwaretrain)\n",
    "comp.sys.mac.hardwaretrain = gsub(\"http\\\\w+\", \"\", comp.sys.mac.hardwaretrain)\n",
    "comp.sys.mac.hardwaretrain = gsub(\"[ \\t]{2,}\", \"\", comp.sys.mac.hardwaretrain)\n",
    "comp.sys.mac.hardwaretrain = gsub(\"^\\\\s+|\\\\s+$\", \"\", comp.sys.mac.hardwaretrain)\n",
    "\n",
    "\n",
    "comp.windows.xtrain = gsub(\"[[:punct:]]\", \"\", comp.windows.xtrain)\n",
    "comp.windows.xtrain = gsub(\"[[:digit:]]\", \"\", comp.windows.xtrain)\n",
    "comp.windows.xtrain = gsub(\"http\\\\w+\", \"\", comp.windows.xtrain)\n",
    "comp.windows.xtrain = gsub(\"[ \\t]{2,}\", \"\", comp.windows.xtrain)\n",
    "comp.windows.xtrain = gsub(\"^\\\\s+|\\\\s+$\", \"\", comp.windows.xtrain)\n",
    "\n",
    "\n",
    "misc.forsaletrain = gsub(\"[[:punct:]]\", \"\", misc.forsaletrain)\n",
    "misc.forsaletrain = gsub(\"[[:digit:]]\", \"\", misc.forsaletrain)\n",
    "misc.forsaletrain = gsub(\"http\\\\w+\", \"\", misc.forsaletrain)\n",
    "misc.forsaletrain = gsub(\"[ \\t]{2,}\", \"\", misc.forsaletrain)\n",
    "misc.forsaletrain = gsub(\"^\\\\s+|\\\\s+$\", \"\", misc.forsaletrain)\n",
    "\n",
    "\n",
    "rec.autostrain = gsub(\"[[:punct:]]\", \"\", rec.autostrain)\n",
    "rec.autostrain = gsub(\"[[:digit:]]\", \"\", rec.autostrain)\n",
    "rec.autostrain = gsub(\"http\\\\w+\", \"\", rec.autostrain)\n",
    "rec.autostrain = gsub(\"[ \\t]{2,}\", \"\", rec.autostrain)\n",
    "rec.autostrain = gsub(\"^\\\\s+|\\\\s+$\", \"\", rec.autostrain)\n",
    "\n",
    "\n",
    "\n",
    "rec.motorcyclestrain = gsub(\"[[:punct:]]\", \"\", rec.motorcyclestrain)\n",
    "rec.motorcyclestrain = gsub(\"[[:digit:]]\", \"\", rec.motorcyclestrain)\n",
    "rec.motorcyclestrain = gsub(\"http\\\\w+\", \"\", rec.motorcyclestrain)\n",
    "rec.motorcyclestrain = gsub(\"[ \\t]{2,}\", \"\", rec.motorcyclestrain)\n",
    "rec.motorcyclestrain = gsub(\"^\\\\s+|\\\\s+$\", \"\", rec.motorcyclestrain)\n",
    "\n",
    "\n",
    "\n",
    "rec.sport.baseballtrain = gsub(\"[[:punct:]]\", \"\", rec.sport.baseballtrain)\n",
    "rec.sport.baseballtrain = gsub(\"[[:digit:]]\", \"\", rec.sport.baseballtrain)\n",
    "rec.sport.baseballtrain = gsub(\"http\\\\w+\", \"\", rec.sport.baseballtrain)\n",
    "rec.sport.baseballtrain = gsub(\"[ \\t]{2,}\", \"\", rec.sport.baseballtrain)\n",
    "rec.sport.baseballtrain = gsub(\"^\\\\s+|\\\\s+$\", \"\", rec.sport.baseballtrain)\n",
    "\n",
    "\n",
    "rec.sport.hockeytrain = gsub(\"[[:punct:]]\", \"\", rec.sport.hockeytrain)\n",
    "rec.sport.hockeytrain = gsub(\"[[:digit:]]\", \"\", rec.sport.hockeytrain)\n",
    "rec.sport.hockeytrain = gsub(\"http\\\\w+\", \"\", rec.sport.hockeytrain)\n",
    "rec.sport.hockeytrain = gsub(\"[ \\t]{2,}\", \"\", rec.sport.hockeytrain)\n",
    "rec.sport.hockeytrain = gsub(\"^\\\\s+|\\\\s+$\", \"\", rec.sport.hockeytrain)\n",
    "\n",
    "sci.crypttrain = gsub(\"[[:punct:]]\", \"\", sci.crypttrain)\n",
    "sci.crypttrain = gsub(\"[[:digit:]]\", \"\", sci.crypttrain)\n",
    "sci.crypttrain = gsub(\"http\\\\w+\", \"\", sci.crypttrain)\n",
    "sci.crypttrain = gsub(\"[ \\t]{2,}\", \"\", sci.crypttrain)\n",
    "sci.crypttrain = gsub(\"^\\\\s+|\\\\s+$\", \"\", sci.crypttrain)\n",
    "\n",
    "\n",
    "sci.electronicstrain = gsub(\"[[:punct:]]\", \"\", sci.electronicstrain)\n",
    "sci.electronicstrain = gsub(\"[[:digit:]]\", \"\", sci.electronicstrain)\n",
    "sci.electronicstrain = gsub(\"http\\\\w+\", \"\", sci.electronicstrain)\n",
    "sci.electronicstrain = gsub(\"[ \\t]{2,}\", \"\", sci.electronicstrain)\n",
    "sci.electronicstrain = gsub(\"^\\\\s+|\\\\s+$\", \"\", sci.electronicstrain)\n",
    "\n",
    "\n",
    "sci.medtrain = gsub(\"[[:punct:]]\", \"\", sci.medtrain)\n",
    "sci.medtrain = gsub(\"[[:digit:]]\", \"\", sci.medtrain)\n",
    "sci.medtrain = gsub(\"http\\\\w+\", \"\", sci.medtrain)\n",
    "sci.medtrain = gsub(\"[ \\t]{2,}\", \"\", sci.medtrain)\n",
    "sci.medtrain = gsub(\"^\\\\s+|\\\\s+$\", \"\", sci.medtrain)\n",
    "\n",
    "\n",
    "sci.spacetrain = gsub(\"[[:punct:]]\", \"\", sci.spacetrain)\n",
    "sci.spacetrain = gsub(\"[[:digit:]]\", \"\", sci.spacetrain)\n",
    "sci.spacetrain = gsub(\"http\\\\w+\", \"\", sci.spacetrain)\n",
    "sci.spacetrain = gsub(\"[ \\t]{2,}\", \"\", sci.spacetrain)\n",
    "sci.spacetrain = gsub(\"^\\\\s+|\\\\s+$\", \"\", sci.spacetrain)\n",
    "\n",
    "\n",
    "soc.religion.christiantrain = gsub(\"[[:punct:]]\", \"\", soc.religion.christiantrain)\n",
    "soc.religion.christiantrain = gsub(\"[[:digit:]]\", \"\", soc.religion.christiantrain)\n",
    "soc.religion.christiantrain = gsub(\"http\\\\w+\", \"\", soc.religion.christiantrain)\n",
    "soc.religion.christiantrain = gsub(\"[ \\t]{2,}\", \"\", soc.religion.christiantrain)\n",
    "soc.religion.christiantrain = gsub(\"^\\\\s+|\\\\s+$\", \"\", soc.religion.christiantrain)\n",
    "\n",
    "talk.politics.gunstrain = gsub(\"[[:punct:]]\", \"\", talk.politics.gunstrain)\n",
    "talk.politics.gunstrain = gsub(\"[[:digit:]]\", \"\", talk.politics.gunstrain)\n",
    "talk.politics.gunstrain = gsub(\"http\\\\w+\", \"\", talk.politics.gunstrain)\n",
    "talk.politics.gunstrain = gsub(\"[ \\t]{2,}\", \"\", talk.politics.gunstrain)\n",
    "talk.politics.gunstrain = gsub(\"^\\\\s+|\\\\s+$\", \"\", talk.politics.gunstrain)\n",
    "\n",
    "talk.politics.mideasttrain = gsub(\"[[:punct:]]\", \"\", talk.politics.mideasttrain)\n",
    "talk.politics.mideasttrain = gsub(\"[[:digit:]]\", \"\", talk.politics.mideasttrain)\n",
    "talk.politics.mideasttrain = gsub(\"http\\\\w+\", \"\", talk.politics.mideasttrain)\n",
    "talk.politics.mideasttrain = gsub(\"[ \\t]{2,}\", \"\", talk.politics.mideasttrain)\n",
    "talk.politics.mideasttrain = gsub(\"^\\\\s+|\\\\s+$\", \"\", talk.politics.mideasttrain)\n",
    "\n",
    "talk.politics.misctrain = gsub(\"[[:punct:]]\", \"\", talk.politics.misctrain)\n",
    "talk.politics.misctrain = gsub(\"[[:digit:]]\", \"\", talk.politics.misctrain)\n",
    "talk.politics.misctrain = gsub(\"http\\\\w+\", \"\", talk.politics.misctrain)\n",
    "talk.politics.misctrain = gsub(\"[ \\t]{2,}\", \"\", talk.politics.misctrain)\n",
    "talk.politics.misctrain = gsub(\"^\\\\s+|\\\\s+$\", \"\", talk.politics.misctrain)\n",
    "\n",
    "talk.religion.misctrain = gsub(\"[[:punct:]]\", \"\", talk.religion.misctrain)\n",
    "talk.religion.misctrain = gsub(\"[[:digit:]]\", \"\", talk.religion.misctrain)\n",
    "talk.religion.misctrain = gsub(\"http\\\\w+\", \"\", talk.religion.misctrain)\n",
    "talk.religion.misctrain = gsub(\"[ \\t]{2,}\", \"\", talk.religion.misctrain)\n",
    "talk.religion.misctrain = gsub(\"^\\\\s+|\\\\s+$\", \"\", talk.religion.misctrain)\n",
    "\n",
    "\n",
    "alt.atheismtest = gsub(\"[[:punct:]]\", \"\", alt.atheismtest)\n",
    "alt.atheismtest = gsub(\"[[:digit:]]\", \"\", alt.atheismtest)\n",
    "alt.atheismtest = gsub(\"http\\\\w+\", \"\", alt.atheismtest)\n",
    "alt.atheismtest = gsub(\"[ \\t]{2,}\", \"\", alt.atheismtest)\n",
    "alt.atheismtest = gsub(\"^\\\\s+|\\\\s+$\", \"\", alt.atheismtest)\n",
    "\n",
    "\n",
    "comp.graphicstest = gsub(\"[[:punct:]]\", \"\", comp.graphicstest)\n",
    "comp.graphicstest = gsub(\"[[:digit:]]\", \"\", comp.graphicstest)\n",
    "comp.graphicstest = gsub(\"http\\\\w+\", \"\", comp.graphicstest)\n",
    "comp.graphicstest = gsub(\"[ \\t]{2,}\", \"\", comp.graphicstest)\n",
    "comp.graphicstest = gsub(\"^\\\\s+|\\\\s+$\", \"\", comp.graphicstest)\n",
    "\n",
    "\n",
    "comp.os.mswindows.misctest = gsub(\"[[:punct:]]\", \"\", comp.os.mswindows.misctest)\n",
    "comp.os.mswindows.misctest = gsub(\"[[:digit:]]\", \"\", comp.os.mswindows.misctest)\n",
    "comp.os.mswindows.misctest = gsub(\"http\\\\w+\", \"\", comp.os.mswindows.misctest)\n",
    "comp.os.mswindows.misctest = gsub(\"[ \\t]{2,}\", \"\", comp.os.mswindows.misctest)\n",
    "comp.os.mswindows.misctest = gsub(\"^\\\\s+|\\\\s+$\", \"\", comp.os.mswindows.misctest)\n",
    "\n",
    "\n",
    "comp.sys.ibm.pc.hardwaretest = gsub(\"[[:punct:]]\", \"\", comp.sys.ibm.pc.hardwaretest)\n",
    "comp.sys.ibm.pc.hardwaretest = gsub(\"[[:digit:]]\", \"\", comp.sys.ibm.pc.hardwaretest)\n",
    "comp.sys.ibm.pc.hardwaretest = gsub(\"http\\\\w+\", \"\", comp.sys.ibm.pc.hardwaretest)\n",
    "comp.sys.ibm.pc.hardwaretest = gsub(\"[ \\t]{2,}\", \"\", comp.sys.ibm.pc.hardwaretest)\n",
    "comp.sys.ibm.pc.hardwaretest = gsub(\"^\\\\s+|\\\\s+$\", \"\", comp.sys.ibm.pc.hardwaretest)\n",
    "\n",
    "\n",
    "comp.sys.mac.hardwaretest = gsub(\"[[:punct:]]\", \"\", comp.sys.mac.hardwaretest)\n",
    "comp.sys.mac.hardwaretest = gsub(\"[[:digit:]]\", \"\", comp.sys.mac.hardwaretest)\n",
    "comp.sys.mac.hardwaretest = gsub(\"http\\\\w+\", \"\", comp.sys.mac.hardwaretest)\n",
    "comp.sys.mac.hardwaretest = gsub(\"[ \\t]{2,}\", \"\", comp.sys.mac.hardwaretest)\n",
    "comp.sys.mac.hardwaretest = gsub(\"^\\\\s+|\\\\s+$\", \"\", comp.sys.mac.hardwaretest)\n",
    "\n",
    "\n",
    "comp.windows.xtest = gsub(\"[[:punct:]]\", \"\", comp.windows.xtest)\n",
    "comp.windows.xtest = gsub(\"[[:digit:]]\", \"\", comp.windows.xtest)\n",
    "comp.windows.xtest = gsub(\"http\\\\w+\", \"\", comp.windows.xtest)\n",
    "comp.windows.xtest = gsub(\"[ \\t]{2,}\", \"\", comp.windows.xtest)\n",
    "comp.windows.xtest = gsub(\"^\\\\s+|\\\\s+$\", \"\", comp.windows.xtest)\n",
    "\n",
    "\n",
    "misc.forsaletest = gsub(\"[[:punct:]]\", \"\", misc.forsaletest)\n",
    "misc.forsaletest = gsub(\"[[:digit:]]\", \"\", misc.forsaletest)\n",
    "misc.forsaletest = gsub(\"http\\\\w+\", \"\", misc.forsaletest)\n",
    "misc.forsaletest = gsub(\"[ \\t]{2,}\", \"\", misc.forsaletest)\n",
    "misc.forsaletest = gsub(\"^\\\\s+|\\\\s+$\", \"\", misc.forsaletest)\n",
    "\n",
    "\n",
    "rec.autostest = gsub(\"[[:punct:]]\", \"\", rec.autostest)\n",
    "rec.autostest = gsub(\"[[:digit:]]\", \"\", rec.autostest)\n",
    "rec.autostest = gsub(\"http\\\\w+\", \"\", rec.autostest)\n",
    "rec.autostest = gsub(\"[ \\t]{2,}\", \"\", rec.autostest)\n",
    "rec.autostest = gsub(\"^\\\\s+|\\\\s+$\", \"\", rec.autostest)\n",
    "\n",
    "\n",
    "\n",
    "rec.motorcyclestest = gsub(\"[[:punct:]]\", \"\", rec.motorcyclestest)\n",
    "rec.motorcyclestest = gsub(\"[[:digit:]]\", \"\", rec.motorcyclestest)\n",
    "rec.motorcyclestest = gsub(\"http\\\\w+\", \"\", rec.motorcyclestest)\n",
    "rec.motorcyclestest = gsub(\"[ \\t]{2,}\", \"\", rec.motorcyclestest)\n",
    "rec.motorcyclestest = gsub(\"^\\\\s+|\\\\s+$\", \"\", rec.motorcyclestest)\n",
    "\n",
    "\n",
    "\n",
    "rec.sport.baseballtest = gsub(\"[[:punct:]]\", \"\", rec.sport.baseballtest)\n",
    "rec.sport.baseballtest = gsub(\"[[:digit:]]\", \"\", rec.sport.baseballtest)\n",
    "rec.sport.baseballtest = gsub(\"http\\\\w+\", \"\", rec.sport.baseballtest)\n",
    "rec.sport.baseballtest = gsub(\"[ \\t]{2,}\", \"\", rec.sport.baseballtest)\n",
    "rec.sport.baseballtest = gsub(\"^\\\\s+|\\\\s+$\", \"\", rec.sport.baseballtest)\n",
    "\n",
    "\n",
    "rec.sport.hockeytest = gsub(\"[[:punct:]]\", \"\", rec.sport.hockeytest)\n",
    "rec.sport.hockeytest = gsub(\"[[:digit:]]\", \"\", rec.sport.hockeytest)\n",
    "rec.sport.hockeytest = gsub(\"http\\\\w+\", \"\", rec.sport.hockeytest)\n",
    "rec.sport.hockeytest = gsub(\"[ \\t]{2,}\", \"\", rec.sport.hockeytest)\n",
    "rec.sport.hockeytest = gsub(\"^\\\\s+|\\\\s+$\", \"\", rec.sport.hockeytest)\n",
    "\n",
    "sci.crypttest = gsub(\"[[:punct:]]\", \"\", sci.crypttest)\n",
    "sci.crypttest = gsub(\"[[:digit:]]\", \"\", sci.crypttest)\n",
    "sci.crypttest = gsub(\"http\\\\w+\", \"\", sci.crypttest)\n",
    "sci.crypttest = gsub(\"[ \\t]{2,}\", \"\", sci.crypttest)\n",
    "sci.crypttest = gsub(\"^\\\\s+|\\\\s+$\", \"\", sci.crypttest)\n",
    "\n",
    "\n",
    "sci.electronicstest = gsub(\"[[:punct:]]\", \"\", sci.electronicstest)\n",
    "sci.electronicstest = gsub(\"[[:digit:]]\", \"\", sci.electronicstest)\n",
    "sci.electronicstest = gsub(\"http\\\\w+\", \"\", sci.electronicstest)\n",
    "sci.electronicstest = gsub(\"[ \\t]{2,}\", \"\", sci.electronicstest)\n",
    "sci.electronicstest = gsub(\"^\\\\s+|\\\\s+$\", \"\", sci.electronicstest)\n",
    "\n",
    "\n",
    "sci.medtest = gsub(\"[[:punct:]]\", \"\", sci.medtest)\n",
    "sci.medtest = gsub(\"[[:digit:]]\", \"\", sci.medtest)\n",
    "sci.medtest = gsub(\"http\\\\w+\", \"\", sci.medtest)\n",
    "sci.medtest = gsub(\"[ \\t]{2,}\", \"\", sci.medtest)\n",
    "sci.medtest = gsub(\"^\\\\s+|\\\\s+$\", \"\", sci.medtest)\n",
    "\n",
    "\n",
    "sci.spacetest = gsub(\"[[:punct:]]\", \"\", sci.spacetest)\n",
    "sci.spacetest = gsub(\"[[:digit:]]\", \"\", sci.spacetest)\n",
    "sci.spacetest = gsub(\"http\\\\w+\", \"\", sci.spacetest)\n",
    "sci.spacetest = gsub(\"[ \\t]{2,}\", \"\", sci.spacetest)\n",
    "sci.spacetest = gsub(\"^\\\\s+|\\\\s+$\", \"\", sci.spacetest)\n",
    "\n",
    "\n",
    "soc.religion.christiantest = gsub(\"[[:punct:]]\", \"\", soc.religion.christiantest)\n",
    "soc.religion.christiantest = gsub(\"[[:digit:]]\", \"\", soc.religion.christiantest)\n",
    "soc.religion.christiantest = gsub(\"http\\\\w+\", \"\", soc.religion.christiantest)\n",
    "soc.religion.christiantest = gsub(\"[ \\t]{2,}\", \"\", soc.religion.christiantest)\n",
    "soc.religion.christiantest = gsub(\"^\\\\s+|\\\\s+$\", \"\", soc.religion.christiantest)\n",
    "\n",
    "talk.politics.gunstest = gsub(\"[[:punct:]]\", \"\", talk.politics.gunstest)\n",
    "talk.politics.gunstest = gsub(\"[[:digit:]]\", \"\", talk.politics.gunstest)\n",
    "talk.politics.gunstest = gsub(\"http\\\\w+\", \"\", talk.politics.gunstest)\n",
    "talk.politics.gunstest = gsub(\"[ \\t]{2,}\", \"\", talk.politics.gunstest)\n",
    "talk.politics.gunstest = gsub(\"^\\\\s+|\\\\s+$\", \"\", talk.politics.gunstest)\n",
    "\n",
    "talk.politics.mideasttest = gsub(\"[[:punct:]]\", \"\", talk.politics.mideasttest)\n",
    "talk.politics.mideasttest = gsub(\"[[:digit:]]\", \"\", talk.politics.mideasttest)\n",
    "talk.politics.mideasttest = gsub(\"http\\\\w+\", \"\", talk.politics.mideasttest)\n",
    "talk.politics.mideasttest = gsub(\"[ \\t]{2,}\", \"\", talk.politics.mideasttest)\n",
    "talk.politics.mideasttest = gsub(\"^\\\\s+|\\\\s+$\", \"\", talk.politics.mideasttest)\n",
    "\n",
    "talk.politics.misctest = gsub(\"[[:punct:]]\", \"\", talk.politics.misctest)\n",
    "talk.politics.misctest = gsub(\"[[:digit:]]\", \"\", talk.politics.misctest)\n",
    "talk.politics.misctest = gsub(\"http\\\\w+\", \"\", talk.politics.misctest)\n",
    "talk.politics.misctest = gsub(\"[ \\t]{2,}\", \"\", talk.politics.misctest)\n",
    "talk.politics.misctest = gsub(\"^\\\\s+|\\\\s+$\", \"\", talk.politics.misctest)\n",
    "\n",
    "talk.religion.misctest = gsub(\"[[:punct:]]\", \"\", talk.religion.misctest)\n",
    "talk.religion.misctest = gsub(\"[[:digit:]]\", \"\", talk.religion.misctest)\n",
    "talk.religion.misctest = gsub(\"http\\\\w+\", \"\", talk.religion.misctest)\n",
    "talk.religion.misctest = gsub(\"[ \\t]{2,}\", \"\", talk.religion.misctest)\n",
    "talk.religion.misctest = gsub(\"^\\\\s+|\\\\s+$\", \"\", talk.religion.misctest)\n",
    "\n",
    "docfinaltrain<-as.data.frame(c(alt.atheismtrain, comp.graphicstrain, comp.os.mswindows.misctrain, comp.sys.ibm.pc.hardwaretrain,\n",
    "                comp.sys.mac.hardwaretrain, comp.windows.xtrain, misc.forsaletrain, rec.autostrain, \n",
    "                rec.motorcyclestrain, rec.sport.baseballtrain, rec.sport.hockeytrain, sci.crypttrain,\n",
    "                sci.electronicstrain, sci.medtrain, sci.spacetrain, soc.religion.christiantrain, \n",
    "                talk.politics.gunstrain, talk.politics.mideasttrain, talk.politics.misctrain, \n",
    "                talk.religion.misctrain))\n",
    "colnames(docfinaltrain)<-\"txt\"\n",
    "\n",
    "docfinaltest<-as.data.frame(c(alt.atheismtest, comp.graphicstest, comp.os.mswindows.misctest, comp.sys.ibm.pc.hardwaretest,\n",
    "                comp.sys.mac.hardwaretest, comp.windows.xtest, misc.forsaletest, rec.autostest, \n",
    "                rec.motorcyclestest, rec.sport.baseballtest, rec.sport.hockeytest, sci.crypttest,\n",
    "                sci.electronicstest, sci.medtest, sci.spacetest, soc.religion.christiantest, \n",
    "                talk.politics.gunstest, talk.politics.mideasttest, talk.politics.misctest, \n",
    "                talk.religion.misctest))\n",
    "\n",
    "colnames(docfinaltest)<-\"txt\"\n",
    "\n",
    "\n",
    "docfinaltrainvector <- VectorSource(docfinaltrain)\n",
    "doctraincorpus <- Corpus(docfinaltrainvector)\n",
    "doctraincorpus<-tm_map(doctraincorpus, removeWords, stopwords('english'))\n",
    "\n",
    "docfinaltestvector <- VectorSource(docfinaltest)\n",
    "doctestcorpus <- Corpus(docfinaltestvector)\n",
    "doctestcorpus<-tm_map(doctestcorpus, removeWords, stopwords('english'))\n",
    "\n",
    "TDMtrain <- t(TermDocumentMatrix(doctraincorpus))\n",
    "TDMtest <- t(TermDocumentMatrix(doctestcorpus))\n",
    "\n",
    "\n",
    "mTrain <- as.matrix(TDMtrain)\n",
    "vTrain <- sort(rowSums(mTrain), decreasing=TRUE)\n",
    "DTMtop5000<-head(vTrain, 5000)\n",
    "DTMtop10000<-head(vTrain, 10000)\n",
    "\n",
    "mtest <- as.matrix(TDMtest)\n",
    "vtest <- sort(rowSums(mtest), decreasing=TRUE)\n",
    "DTMtop5000<-head(vtest, 5000)\n",
    "DTMtop10000<-head(vtest, 10000)\n",
    "anyNA(docfinaltrain$txt)\n",
    "\n",
    "model <- naiveBayes(as.matrix(TDMtrain),as.factor(docfinaltrain$txt), laplace = 30);\n",
    "\n",
    "results <- predict(model, as.matrix(TDMtest))"
   ]
  }
 ],
 "metadata": {
  "kernelspec": {
   "display_name": "Python 3",
   "language": "python",
   "name": "python3"
  },
  "language_info": {
   "codemirror_mode": {
    "name": "ipython",
    "version": 3
   },
   "file_extension": ".py",
   "mimetype": "text/x-python",
   "name": "python",
   "nbconvert_exporter": "python",
   "pygments_lexer": "ipython3",
   "version": "3.5.2"
  }
 },
 "nbformat": 4,
 "nbformat_minor": 0
}
